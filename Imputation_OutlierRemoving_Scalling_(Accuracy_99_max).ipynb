{
  "nbformat": 4,
  "nbformat_minor": 0,
  "metadata": {
    "colab": {
      "name": "Imputation OutlierRemoving Scalling (Accuracy:99%max).ipynb",
      "provenance": [],
      "authorship_tag": "ABX9TyM+he9eXup05N0lG7k+u9U2",
      "include_colab_link": true
    },
    "kernelspec": {
      "name": "python3",
      "display_name": "Python 3"
    },
    "language_info": {
      "name": "python"
    }
  },
  "cells": [
    {
      "cell_type": "markdown",
      "metadata": {
        "id": "view-in-github",
        "colab_type": "text"
      },
      "source": [
        "<a href=\"https://colab.research.google.com/github/Muhammad-Taufiq-Khan/CKD/blob/main/Imputation_OutlierRemoving_Scalling_(Accuracy_99_max).ipynb\" target=\"_parent\"><img src=\"https://colab.research.google.com/assets/colab-badge.svg\" alt=\"Open In Colab\"/></a>"
      ]
    },
    {
      "cell_type": "code",
      "metadata": {
        "colab": {
          "base_uri": "https://localhost:8080/",
          "height": 162
        },
        "id": "RY5QO9vTodrt",
        "outputId": "39c4d317-97eb-4f7b-d20f-516dbb3a268b"
      },
      "source": [
        "import pandas as pd #Data Manioulation\n",
        "\n",
        "url = 'https://raw.githubusercontent.com/Muhammad-Taufiq-Khan/CKD/main/ckd.csv'\n",
        "dataframe = pd.read_csv(url)\n",
        "dataframe.head(3)"
      ],
      "execution_count": 109,
      "outputs": [
        {
          "output_type": "execute_result",
          "data": {
            "text/html": [
              "<div>\n",
              "<style scoped>\n",
              "    .dataframe tbody tr th:only-of-type {\n",
              "        vertical-align: middle;\n",
              "    }\n",
              "\n",
              "    .dataframe tbody tr th {\n",
              "        vertical-align: top;\n",
              "    }\n",
              "\n",
              "    .dataframe thead th {\n",
              "        text-align: right;\n",
              "    }\n",
              "</style>\n",
              "<table border=\"1\" class=\"dataframe\">\n",
              "  <thead>\n",
              "    <tr style=\"text-align: right;\">\n",
              "      <th></th>\n",
              "      <th>id</th>\n",
              "      <th>age</th>\n",
              "      <th>bp</th>\n",
              "      <th>sg</th>\n",
              "      <th>al</th>\n",
              "      <th>su</th>\n",
              "      <th>rbc</th>\n",
              "      <th>pc</th>\n",
              "      <th>pcc</th>\n",
              "      <th>ba</th>\n",
              "      <th>bgr</th>\n",
              "      <th>bu</th>\n",
              "      <th>sc</th>\n",
              "      <th>sod</th>\n",
              "      <th>pot</th>\n",
              "      <th>hemo</th>\n",
              "      <th>pcv</th>\n",
              "      <th>wc</th>\n",
              "      <th>rc</th>\n",
              "      <th>htn</th>\n",
              "      <th>dm</th>\n",
              "      <th>cad</th>\n",
              "      <th>appet</th>\n",
              "      <th>pe</th>\n",
              "      <th>ane</th>\n",
              "      <th>classification</th>\n",
              "    </tr>\n",
              "  </thead>\n",
              "  <tbody>\n",
              "    <tr>\n",
              "      <th>0</th>\n",
              "      <td>0</td>\n",
              "      <td>48.0</td>\n",
              "      <td>80.0</td>\n",
              "      <td>1.02</td>\n",
              "      <td>1.0</td>\n",
              "      <td>0.0</td>\n",
              "      <td>NaN</td>\n",
              "      <td>normal</td>\n",
              "      <td>notpresent</td>\n",
              "      <td>notpresent</td>\n",
              "      <td>121.0</td>\n",
              "      <td>36.0</td>\n",
              "      <td>1.2</td>\n",
              "      <td>NaN</td>\n",
              "      <td>NaN</td>\n",
              "      <td>15.4</td>\n",
              "      <td>44</td>\n",
              "      <td>7800</td>\n",
              "      <td>5.2</td>\n",
              "      <td>yes</td>\n",
              "      <td>yes</td>\n",
              "      <td>no</td>\n",
              "      <td>good</td>\n",
              "      <td>no</td>\n",
              "      <td>no</td>\n",
              "      <td>ckd</td>\n",
              "    </tr>\n",
              "    <tr>\n",
              "      <th>1</th>\n",
              "      <td>1</td>\n",
              "      <td>7.0</td>\n",
              "      <td>50.0</td>\n",
              "      <td>1.02</td>\n",
              "      <td>4.0</td>\n",
              "      <td>0.0</td>\n",
              "      <td>NaN</td>\n",
              "      <td>normal</td>\n",
              "      <td>notpresent</td>\n",
              "      <td>notpresent</td>\n",
              "      <td>NaN</td>\n",
              "      <td>18.0</td>\n",
              "      <td>0.8</td>\n",
              "      <td>NaN</td>\n",
              "      <td>NaN</td>\n",
              "      <td>11.3</td>\n",
              "      <td>38</td>\n",
              "      <td>6000</td>\n",
              "      <td>NaN</td>\n",
              "      <td>no</td>\n",
              "      <td>no</td>\n",
              "      <td>no</td>\n",
              "      <td>good</td>\n",
              "      <td>no</td>\n",
              "      <td>no</td>\n",
              "      <td>ckd</td>\n",
              "    </tr>\n",
              "    <tr>\n",
              "      <th>2</th>\n",
              "      <td>2</td>\n",
              "      <td>62.0</td>\n",
              "      <td>80.0</td>\n",
              "      <td>1.01</td>\n",
              "      <td>2.0</td>\n",
              "      <td>3.0</td>\n",
              "      <td>normal</td>\n",
              "      <td>normal</td>\n",
              "      <td>notpresent</td>\n",
              "      <td>notpresent</td>\n",
              "      <td>423.0</td>\n",
              "      <td>53.0</td>\n",
              "      <td>1.8</td>\n",
              "      <td>NaN</td>\n",
              "      <td>NaN</td>\n",
              "      <td>9.6</td>\n",
              "      <td>31</td>\n",
              "      <td>7500</td>\n",
              "      <td>NaN</td>\n",
              "      <td>no</td>\n",
              "      <td>yes</td>\n",
              "      <td>no</td>\n",
              "      <td>poor</td>\n",
              "      <td>no</td>\n",
              "      <td>yes</td>\n",
              "      <td>ckd</td>\n",
              "    </tr>\n",
              "  </tbody>\n",
              "</table>\n",
              "</div>"
            ],
            "text/plain": [
              "   id   age    bp    sg   al   su  ...   dm cad appet  pe  ane  classification\n",
              "0   0  48.0  80.0  1.02  1.0  0.0  ...  yes  no  good  no   no             ckd\n",
              "1   1   7.0  50.0  1.02  4.0  0.0  ...   no  no  good  no   no             ckd\n",
              "2   2  62.0  80.0  1.01  2.0  3.0  ...  yes  no  poor  no  yes             ckd\n",
              "\n",
              "[3 rows x 26 columns]"
            ]
          },
          "metadata": {
            "tags": []
          },
          "execution_count": 109
        }
      ]
    },
    {
      "cell_type": "code",
      "metadata": {
        "colab": {
          "base_uri": "https://localhost:8080/",
          "height": 179
        },
        "id": "00ccyar6vseG",
        "outputId": "3bb298ff-de05-4998-fca8-770a501a5636"
      },
      "source": [
        "#Rename Each Column\n",
        "dataframe.columns = [\"id\",\"age\", \"blood_pressure\", \"specific_gravety\", \"albumin\",\"sugar\" ,\"red_blood_cells\", \"pus_cell\", \"pus_cell_clumps\", \"bacteria\", \"blood_glucose_random\", \"blood _urea\", \"serum_creatinine\", \"sodium\", \"potassium\", \"hemoglobine\", \"packed_cell_volume\", \"white_blood_cell_count\", \"red_blood_cell_count\", \"hypertension\", \"diabetes_mellitias\", \"coronary_artery_disease\", \"appetite\", \"pedal_edema\", \"anemia\", \"ckd\" ]\n",
        "#To Rename Particular column\n",
        "# df.rename(columns = {'test':'TEST'}, inplace = True) \n",
        "\n",
        "#drop id\n",
        "dataframe.drop(['id'], axis = 1, inplace=True)\n",
        "\n",
        "#show top 3 record or sample\n",
        "dataframe.head(3)\n"
      ],
      "execution_count": 110,
      "outputs": [
        {
          "output_type": "execute_result",
          "data": {
            "text/html": [
              "<div>\n",
              "<style scoped>\n",
              "    .dataframe tbody tr th:only-of-type {\n",
              "        vertical-align: middle;\n",
              "    }\n",
              "\n",
              "    .dataframe tbody tr th {\n",
              "        vertical-align: top;\n",
              "    }\n",
              "\n",
              "    .dataframe thead th {\n",
              "        text-align: right;\n",
              "    }\n",
              "</style>\n",
              "<table border=\"1\" class=\"dataframe\">\n",
              "  <thead>\n",
              "    <tr style=\"text-align: right;\">\n",
              "      <th></th>\n",
              "      <th>age</th>\n",
              "      <th>blood_pressure</th>\n",
              "      <th>specific_gravety</th>\n",
              "      <th>albumin</th>\n",
              "      <th>sugar</th>\n",
              "      <th>red_blood_cells</th>\n",
              "      <th>pus_cell</th>\n",
              "      <th>pus_cell_clumps</th>\n",
              "      <th>bacteria</th>\n",
              "      <th>blood_glucose_random</th>\n",
              "      <th>blood _urea</th>\n",
              "      <th>serum_creatinine</th>\n",
              "      <th>sodium</th>\n",
              "      <th>potassium</th>\n",
              "      <th>hemoglobine</th>\n",
              "      <th>packed_cell_volume</th>\n",
              "      <th>white_blood_cell_count</th>\n",
              "      <th>red_blood_cell_count</th>\n",
              "      <th>hypertension</th>\n",
              "      <th>diabetes_mellitias</th>\n",
              "      <th>coronary_artery_disease</th>\n",
              "      <th>appetite</th>\n",
              "      <th>pedal_edema</th>\n",
              "      <th>anemia</th>\n",
              "      <th>ckd</th>\n",
              "    </tr>\n",
              "  </thead>\n",
              "  <tbody>\n",
              "    <tr>\n",
              "      <th>0</th>\n",
              "      <td>48.0</td>\n",
              "      <td>80.0</td>\n",
              "      <td>1.02</td>\n",
              "      <td>1.0</td>\n",
              "      <td>0.0</td>\n",
              "      <td>NaN</td>\n",
              "      <td>normal</td>\n",
              "      <td>notpresent</td>\n",
              "      <td>notpresent</td>\n",
              "      <td>121.0</td>\n",
              "      <td>36.0</td>\n",
              "      <td>1.2</td>\n",
              "      <td>NaN</td>\n",
              "      <td>NaN</td>\n",
              "      <td>15.4</td>\n",
              "      <td>44</td>\n",
              "      <td>7800</td>\n",
              "      <td>5.2</td>\n",
              "      <td>yes</td>\n",
              "      <td>yes</td>\n",
              "      <td>no</td>\n",
              "      <td>good</td>\n",
              "      <td>no</td>\n",
              "      <td>no</td>\n",
              "      <td>ckd</td>\n",
              "    </tr>\n",
              "    <tr>\n",
              "      <th>1</th>\n",
              "      <td>7.0</td>\n",
              "      <td>50.0</td>\n",
              "      <td>1.02</td>\n",
              "      <td>4.0</td>\n",
              "      <td>0.0</td>\n",
              "      <td>NaN</td>\n",
              "      <td>normal</td>\n",
              "      <td>notpresent</td>\n",
              "      <td>notpresent</td>\n",
              "      <td>NaN</td>\n",
              "      <td>18.0</td>\n",
              "      <td>0.8</td>\n",
              "      <td>NaN</td>\n",
              "      <td>NaN</td>\n",
              "      <td>11.3</td>\n",
              "      <td>38</td>\n",
              "      <td>6000</td>\n",
              "      <td>NaN</td>\n",
              "      <td>no</td>\n",
              "      <td>no</td>\n",
              "      <td>no</td>\n",
              "      <td>good</td>\n",
              "      <td>no</td>\n",
              "      <td>no</td>\n",
              "      <td>ckd</td>\n",
              "    </tr>\n",
              "    <tr>\n",
              "      <th>2</th>\n",
              "      <td>62.0</td>\n",
              "      <td>80.0</td>\n",
              "      <td>1.01</td>\n",
              "      <td>2.0</td>\n",
              "      <td>3.0</td>\n",
              "      <td>normal</td>\n",
              "      <td>normal</td>\n",
              "      <td>notpresent</td>\n",
              "      <td>notpresent</td>\n",
              "      <td>423.0</td>\n",
              "      <td>53.0</td>\n",
              "      <td>1.8</td>\n",
              "      <td>NaN</td>\n",
              "      <td>NaN</td>\n",
              "      <td>9.6</td>\n",
              "      <td>31</td>\n",
              "      <td>7500</td>\n",
              "      <td>NaN</td>\n",
              "      <td>no</td>\n",
              "      <td>yes</td>\n",
              "      <td>no</td>\n",
              "      <td>poor</td>\n",
              "      <td>no</td>\n",
              "      <td>yes</td>\n",
              "      <td>ckd</td>\n",
              "    </tr>\n",
              "  </tbody>\n",
              "</table>\n",
              "</div>"
            ],
            "text/plain": [
              "    age  blood_pressure  specific_gravety  ...  pedal_edema  anemia  ckd\n",
              "0  48.0            80.0              1.02  ...           no      no  ckd\n",
              "1   7.0            50.0              1.02  ...           no      no  ckd\n",
              "2  62.0            80.0              1.01  ...           no     yes  ckd\n",
              "\n",
              "[3 rows x 25 columns]"
            ]
          },
          "metadata": {
            "tags": []
          },
          "execution_count": 110
        }
      ]
    },
    {
      "cell_type": "code",
      "metadata": {
        "id": "CUsoadKwgVTl"
      },
      "source": [
        ""
      ],
      "execution_count": 110,
      "outputs": []
    },
    {
      "cell_type": "code",
      "metadata": {
        "colab": {
          "base_uri": "https://localhost:8080/"
        },
        "id": "tMCiDA2d36e3",
        "outputId": "fce323d3-ed29-4a29-be5e-fb3ca02f5556"
      },
      "source": [
        "#Show Unique values per Attribute\n",
        "for i in (dataframe):\n",
        "  print(f\"Attribute Name: {i}   Total Unique Value: {dataframe[i].nunique()} \\n Unique Values: {dataframe[i].unique()}\\n\")\n",
        "\n",
        "\n"
      ],
      "execution_count": 111,
      "outputs": [
        {
          "output_type": "stream",
          "text": [
            "Attribute Name: age   Total Unique Value: 76 \n",
            " Unique Values: [48.  7. 62. 51. 60. 68. 24. 52. 53. 50. 63. 40. 47. 61. 21. 42. 75. 69.\n",
            " nan 73. 70. 65. 76. 72. 82. 46. 45. 35. 54. 11. 59. 67. 15. 55. 44. 26.\n",
            " 64. 56.  5. 74. 38. 58. 71. 34. 17. 12. 43. 41. 57.  8. 39. 66. 81. 14.\n",
            " 27. 83. 30.  4.  3.  6. 32. 80. 49. 90. 78. 19.  2. 33. 36. 37. 23. 25.\n",
            " 20. 29. 28. 22. 79.]\n",
            "\n",
            "Attribute Name: blood_pressure   Total Unique Value: 10 \n",
            " Unique Values: [ 80.  50.  70.  90.  nan 100.  60. 110. 140. 180. 120.]\n",
            "\n",
            "Attribute Name: specific_gravety   Total Unique Value: 5 \n",
            " Unique Values: [1.02  1.01  1.005 1.015   nan 1.025]\n",
            "\n",
            "Attribute Name: albumin   Total Unique Value: 6 \n",
            " Unique Values: [ 1.  4.  2.  3.  0. nan  5.]\n",
            "\n",
            "Attribute Name: sugar   Total Unique Value: 6 \n",
            " Unique Values: [ 0.  3.  4.  1. nan  2.  5.]\n",
            "\n",
            "Attribute Name: red_blood_cells   Total Unique Value: 2 \n",
            " Unique Values: [nan 'normal' 'abnormal']\n",
            "\n",
            "Attribute Name: pus_cell   Total Unique Value: 2 \n",
            " Unique Values: ['normal' 'abnormal' nan]\n",
            "\n",
            "Attribute Name: pus_cell_clumps   Total Unique Value: 2 \n",
            " Unique Values: ['notpresent' 'present' nan]\n",
            "\n",
            "Attribute Name: bacteria   Total Unique Value: 2 \n",
            " Unique Values: ['notpresent' 'present' nan]\n",
            "\n",
            "Attribute Name: blood_glucose_random   Total Unique Value: 146 \n",
            " Unique Values: [121.  nan 423. 117. 106.  74. 100. 410. 138.  70. 490. 380. 208.  98.\n",
            " 157.  76.  99. 114. 263. 173.  95. 108. 156. 264. 123.  93. 107. 159.\n",
            " 140. 171. 270.  92. 137. 204.  79. 207. 124. 144.  91. 162. 246. 253.\n",
            " 141. 182.  86. 150. 146. 425. 112. 250. 360. 163. 129. 133. 102. 158.\n",
            " 165. 132. 104. 127. 415. 169. 251. 109. 280. 210. 219. 295.  94. 172.\n",
            " 101. 298. 153.  88. 226. 143. 115.  89. 297. 233. 294. 323. 125.  90.\n",
            " 308. 118. 224. 128. 122. 214. 213. 268. 256.  84. 105. 288. 139.  78.\n",
            " 273. 242. 424. 303. 148. 160. 192. 307. 220. 447. 309.  22. 111. 261.\n",
            " 215. 234. 131. 352.  80. 239. 110. 130. 184. 252. 113. 230. 341. 255.\n",
            " 103. 238. 248. 120. 241. 269. 201. 203. 463. 176.  82. 119.  97.  96.\n",
            "  81. 116. 134.  85.  83.  87.  75.]\n",
            "\n",
            "Attribute Name: blood _urea   Total Unique Value: 118 \n",
            " Unique Values: [ 36.   18.   53.   56.   26.   25.   54.   31.   60.  107.   55.   72.\n",
            "  86.   90.  162.   46.   87.   27.  148.  180.  163.    nan  50.   75.\n",
            "  45.   28.  155.   33.   39.  153.   29.   65.  103.   70.   80.   20.\n",
            " 202.   77.   89.   24.   17.   32.  114.   66.   38.  164.  142.   96.\n",
            " 391.   15.  111.   73.   19.   92.   35.   16.  139.   48.   85.   98.\n",
            " 186.   37.   47.   52.   82.   51.  106.   22.  217.   88.  118.   50.1\n",
            "  71.   34.   40.   21.  219.   30.  125.  166.   49.  208.  176.   68.\n",
            " 145.  165.  322.   23.  235.  132.   76.   42.   44.   41.  113.    1.5\n",
            " 146.   58.  133.  137.   67.  115.  223.   98.6 158.   94.   74.  150.\n",
            "  61.   57.   95.  191.   93.  241.   64.   79.  215.  309.   10. ]\n",
            "\n",
            "Attribute Name: serum_creatinine   Total Unique Value: 84 \n",
            " Unique Values: [ 1.2   0.8   1.8   3.8   1.4   1.1  24.    1.9   7.2   4.    2.7   2.1\n",
            "  4.6   4.1   9.6   2.2   5.2   1.3   1.6   3.9  76.    7.7    nan  2.4\n",
            "  7.3   1.5   2.5   2.    3.4   0.7   1.   10.8   6.3   5.9   0.9   3.\n",
            "  3.25  9.7   6.4   3.2  32.    0.6   6.1   3.3   6.7   8.5   2.8  15.\n",
            "  2.9   1.7   3.6   5.6   6.5   4.4  10.2  11.5   0.5  12.2   5.3   9.2\n",
            " 13.8  16.9   6.    7.1  18.    2.3  13.   48.1  14.2  16.4   2.6   7.5\n",
            "  4.3  18.1  11.8   9.3   6.8  13.5  12.8  11.9  12.   13.4  15.2  13.3\n",
            "  0.4 ]\n",
            "\n",
            "Attribute Name: sodium   Total Unique Value: 34 \n",
            " Unique Values: [  nan 111.  142.  104.  114.  131.  138.  135.  130.  141.  139.    4.5\n",
            " 136.  129.  140.  132.  133.  134.  125.  163.  137.  128.  143.  127.\n",
            " 146.  126.  122.  147.  124.  115.  145.  113.  120.  150.  144. ]\n",
            "\n",
            "Attribute Name: potassium   Total Unique Value: 40 \n",
            " Unique Values: [ nan  2.5  3.2  4.   3.7  4.2  5.8  3.4  6.4  4.9  4.1  4.3  5.2  3.8\n",
            "  4.6  3.9  4.7  5.9  4.8  4.4  6.6 39.   5.5  5.   3.5  3.6  7.6  2.9\n",
            "  4.5  5.7  5.4  5.3 47.   6.3  5.1  5.6  3.   2.8  2.7  6.5  3.3]\n",
            "\n",
            "Attribute Name: hemoglobine   Total Unique Value: 115 \n",
            " Unique Values: [15.4 11.3  9.6 11.2 11.6 12.2 12.4 10.8  9.5  9.4  9.7  9.8  5.6  7.6\n",
            " 12.6 12.1 12.7 10.3  7.7 10.9  nan 11.1  9.9 12.5 12.9 10.1 12.  13.\n",
            "  7.9  9.3 15.  10.   8.6 13.6 10.2 10.5  6.6 11.   7.5 15.6 15.2  4.8\n",
            "  9.1  8.1 11.9 13.5  8.3  7.1 16.1 10.4  9.2  6.2 13.9 14.1  6.  11.8\n",
            " 11.7 11.4 14.   8.2 13.2  6.1  8.  12.3  8.4 14.3  9.   8.7 10.6 13.1\n",
            " 10.7  5.5  5.8  6.8  8.8  8.5 13.8 11.5  7.3 13.7 12.8 13.4  6.3  3.1\n",
            " 17.  15.9 14.5 15.5 16.2 14.4 14.2 16.3 14.8 16.5 15.7 13.3 14.6 16.4\n",
            " 16.9 16.  14.7 16.6 14.9 16.7 16.8 15.8 15.1 17.1 17.2 15.3 17.3 17.4\n",
            " 17.7 17.8 17.5 17.6]\n",
            "\n",
            "Attribute Name: packed_cell_volume   Total Unique Value: 44 \n",
            " Unique Values: ['44' '38' '31' '32' '35' '39' '36' '33' '29' '28' nan '16' '24' '37' '30'\n",
            " '34' '40' '45' '27' '48' '\\t?' '52' '14' '22' '18' '42' '17' '46' '23'\n",
            " '19' '25' '41' '26' '15' '21' '43' '20' '\\t43' '47' '9' '49' '50' '53'\n",
            " '51' '54']\n",
            "\n",
            "Attribute Name: white_blood_cell_count   Total Unique Value: 92 \n",
            " Unique Values: ['7800' '6000' '7500' '6700' '7300' nan '6900' '9600' '12100' '4500'\n",
            " '12200' '11000' '3800' '11400' '5300' '9200' '6200' '8300' '8400' '10300'\n",
            " '9800' '9100' '7900' '6400' '8600' '18900' '21600' '4300' '8500' '11300'\n",
            " '7200' '7700' '14600' '6300' '\\t6200' '7100' '11800' '9400' '5500' '5800'\n",
            " '13200' '12500' '5600' '7000' '11900' '10400' '10700' '12700' '6800'\n",
            " '6500' '13600' '10200' '9000' '14900' '8200' '15200' '5000' '16300'\n",
            " '12400' '\\t8400' '10500' '4200' '4700' '10900' '8100' '9500' '2200'\n",
            " '12800' '11200' '19100' '\\t?' '12300' '16700' '2600' '26400' '8800'\n",
            " '7400' '4900' '8000' '12000' '15700' '4100' '5700' '11500' '5400' '10800'\n",
            " '9900' '5200' '5900' '9300' '9700' '5100' '6600']\n",
            "\n",
            "Attribute Name: red_blood_cell_count   Total Unique Value: 49 \n",
            " Unique Values: ['5.2' nan '3.9' '4.6' '4.4' '5' '4.0' '3.7' '3.8' '3.4' '2.6' '2.8' '4.3'\n",
            " '3.2' '3.6' '4' '4.1' '4.9' '2.5' '4.2' '4.5' '3.1' '4.7' '3.5' '6.0'\n",
            " '5.0' '2.1' '5.6' '2.3' '2.9' '2.7' '8.0' '3.3' '3.0' '3' '2.4' '4.8'\n",
            " '\\t?' '5.4' '6.1' '6.2' '6.3' '5.1' '5.8' '5.5' '5.3' '6.4' '5.7' '5.9'\n",
            " '6.5']\n",
            "\n",
            "Attribute Name: hypertension   Total Unique Value: 2 \n",
            " Unique Values: ['yes' 'no' nan]\n",
            "\n",
            "Attribute Name: diabetes_mellitias   Total Unique Value: 5 \n",
            " Unique Values: ['yes' 'no' ' yes' '\\tno' '\\tyes' nan]\n",
            "\n",
            "Attribute Name: coronary_artery_disease   Total Unique Value: 3 \n",
            " Unique Values: ['no' 'yes' '\\tno' nan]\n",
            "\n",
            "Attribute Name: appetite   Total Unique Value: 2 \n",
            " Unique Values: ['good' 'poor' nan]\n",
            "\n",
            "Attribute Name: pedal_edema   Total Unique Value: 2 \n",
            " Unique Values: ['no' 'yes' nan]\n",
            "\n",
            "Attribute Name: anemia   Total Unique Value: 2 \n",
            " Unique Values: ['no' 'yes' nan]\n",
            "\n",
            "Attribute Name: ckd   Total Unique Value: 3 \n",
            " Unique Values: ['ckd' 'ckd\\t' 'notckd']\n",
            "\n"
          ],
          "name": "stdout"
        }
      ]
    },
    {
      "cell_type": "markdown",
      "metadata": {
        "id": "qFewuOoKNM9u"
      },
      "source": [
        "**Check attributes with single value and duplicate records**"
      ]
    },
    {
      "cell_type": "code",
      "metadata": {
        "colab": {
          "base_uri": "https://localhost:8080/"
        },
        "id": "ttrLvrSuJjLx",
        "outputId": "a743b6e6-4380-4e3e-e264-88658fa73383"
      },
      "source": [
        "#Delete attributes with single column\n",
        "print(\"#Delete attributes with single column\")\n",
        "counts = dataframe.nunique()\n",
        "single_attributes = [i for i,v in enumerate(counts) if v == 1]\n",
        "print(f\"List of single attribute: {single_attributes}\")\n",
        "dataframe.drop(single_attributes, axis=1, inplace=True)\n",
        "\n",
        "print(\"\\n\")\n",
        "\n",
        "#Delete Duplicate samples\n",
        "print(\"#Delete Duplicate samples\")\n",
        "# calculate duplicates\n",
        "dups = dataframe.duplicated()\n",
        "# report if there are any duplicates\n",
        "print(f\"Is there any duplicate sample: {dups.any()}\")\n",
        "# list all duplicate rows\n",
        "print(f\"list all duplicate rows: {dataframe[dups]}\")"
      ],
      "execution_count": 112,
      "outputs": [
        {
          "output_type": "stream",
          "text": [
            "#Delete attributes with single column\n",
            "List of single attribute: []\n",
            "\n",
            "\n",
            "#Delete Duplicate samples\n",
            "Is there any duplicate sample: False\n",
            "list all duplicate rows: Empty DataFrame\n",
            "Columns: [age, blood_pressure, specific_gravety, albumin, sugar, red_blood_cells, pus_cell, pus_cell_clumps, bacteria, blood_glucose_random, blood _urea, serum_creatinine, sodium, potassium, hemoglobine, packed_cell_volume, white_blood_cell_count, red_blood_cell_count, hypertension, diabetes_mellitias, coronary_artery_disease, appetite, pedal_edema, anemia, ckd]\n",
            "Index: []\n"
          ],
          "name": "stdout"
        }
      ]
    },
    {
      "cell_type": "markdown",
      "metadata": {
        "id": "fDCBBnLFf8wc"
      },
      "source": [
        "### 1. Encoding Categorical Data into Neumerical Form Using Python map() fuction"
      ]
    },
    {
      "cell_type": "code",
      "metadata": {
        "colab": {
          "base_uri": "https://localhost:8080/",
          "height": 396
        },
        "id": "u8HJq-FvBq9X",
        "outputId": "6d70d7f5-36d3-45ef-f861-dd816a13b0d3"
      },
      "source": [
        "# Map\n",
        "dataframe[\"red_blood_cells\"]= dataframe[\"red_blood_cells\"].map({'normal':1,'abnormal':0})\n",
        "\n",
        "dataframe[\"pus_cell\"]= dataframe[\"pus_cell\"].map({'normal':1,'abnormal':0})\n",
        "\n",
        "dataframe[\"pus_cell_clumps\"]= dataframe[\"pus_cell_clumps\"].map({'present':1,'notpresent':0})\n",
        "\n",
        "dataframe[\"bacteria\"]= dataframe[\"bacteria\"].map({'present':1,'notpresent':0})\n",
        "\n",
        "dataframe[\"hypertension\"]= dataframe[\"hypertension\"].map({'yes':1,'no':0})\n",
        "\n",
        "dataframe[\"diabetes_mellitias\"]= dataframe[\"diabetes_mellitias\"].map({'yes':1,'no':0,' yes':1, '\\tno':0, '\\tyes':1})\n",
        "\n",
        "dataframe[\"coronary_artery_disease\"]= dataframe[\"coronary_artery_disease\"].map({'yes':1,'no':0, '\\tno':0})\n",
        "\n",
        "dataframe[\"appetite\"]= dataframe[\"appetite\"].map({'good':1,'poor':0})\n",
        "\n",
        "dataframe[\"pedal_edema\"]= dataframe[\"pedal_edema\"].map({'yes':1,'no':0})\n",
        "\n",
        "dataframe[\"anemia\"]= dataframe[\"anemia\"].map({'yes':1,'no':0})\n",
        "\n",
        "dataframe[\"ckd\"]= dataframe[\"ckd\"].map({'ckd':1,'ckd\\t':1, 'notckd':0})\n",
        "\n",
        "dataframe.head(10)"
      ],
      "execution_count": 113,
      "outputs": [
        {
          "output_type": "execute_result",
          "data": {
            "text/html": [
              "<div>\n",
              "<style scoped>\n",
              "    .dataframe tbody tr th:only-of-type {\n",
              "        vertical-align: middle;\n",
              "    }\n",
              "\n",
              "    .dataframe tbody tr th {\n",
              "        vertical-align: top;\n",
              "    }\n",
              "\n",
              "    .dataframe thead th {\n",
              "        text-align: right;\n",
              "    }\n",
              "</style>\n",
              "<table border=\"1\" class=\"dataframe\">\n",
              "  <thead>\n",
              "    <tr style=\"text-align: right;\">\n",
              "      <th></th>\n",
              "      <th>age</th>\n",
              "      <th>blood_pressure</th>\n",
              "      <th>specific_gravety</th>\n",
              "      <th>albumin</th>\n",
              "      <th>sugar</th>\n",
              "      <th>red_blood_cells</th>\n",
              "      <th>pus_cell</th>\n",
              "      <th>pus_cell_clumps</th>\n",
              "      <th>bacteria</th>\n",
              "      <th>blood_glucose_random</th>\n",
              "      <th>blood _urea</th>\n",
              "      <th>serum_creatinine</th>\n",
              "      <th>sodium</th>\n",
              "      <th>potassium</th>\n",
              "      <th>hemoglobine</th>\n",
              "      <th>packed_cell_volume</th>\n",
              "      <th>white_blood_cell_count</th>\n",
              "      <th>red_blood_cell_count</th>\n",
              "      <th>hypertension</th>\n",
              "      <th>diabetes_mellitias</th>\n",
              "      <th>coronary_artery_disease</th>\n",
              "      <th>appetite</th>\n",
              "      <th>pedal_edema</th>\n",
              "      <th>anemia</th>\n",
              "      <th>ckd</th>\n",
              "    </tr>\n",
              "  </thead>\n",
              "  <tbody>\n",
              "    <tr>\n",
              "      <th>0</th>\n",
              "      <td>48.0</td>\n",
              "      <td>80.0</td>\n",
              "      <td>1.020</td>\n",
              "      <td>1.0</td>\n",
              "      <td>0.0</td>\n",
              "      <td>NaN</td>\n",
              "      <td>1.0</td>\n",
              "      <td>0.0</td>\n",
              "      <td>0.0</td>\n",
              "      <td>121.0</td>\n",
              "      <td>36.0</td>\n",
              "      <td>1.2</td>\n",
              "      <td>NaN</td>\n",
              "      <td>NaN</td>\n",
              "      <td>15.4</td>\n",
              "      <td>44</td>\n",
              "      <td>7800</td>\n",
              "      <td>5.2</td>\n",
              "      <td>1.0</td>\n",
              "      <td>1.0</td>\n",
              "      <td>0.0</td>\n",
              "      <td>1.0</td>\n",
              "      <td>0.0</td>\n",
              "      <td>0.0</td>\n",
              "      <td>1</td>\n",
              "    </tr>\n",
              "    <tr>\n",
              "      <th>1</th>\n",
              "      <td>7.0</td>\n",
              "      <td>50.0</td>\n",
              "      <td>1.020</td>\n",
              "      <td>4.0</td>\n",
              "      <td>0.0</td>\n",
              "      <td>NaN</td>\n",
              "      <td>1.0</td>\n",
              "      <td>0.0</td>\n",
              "      <td>0.0</td>\n",
              "      <td>NaN</td>\n",
              "      <td>18.0</td>\n",
              "      <td>0.8</td>\n",
              "      <td>NaN</td>\n",
              "      <td>NaN</td>\n",
              "      <td>11.3</td>\n",
              "      <td>38</td>\n",
              "      <td>6000</td>\n",
              "      <td>NaN</td>\n",
              "      <td>0.0</td>\n",
              "      <td>0.0</td>\n",
              "      <td>0.0</td>\n",
              "      <td>1.0</td>\n",
              "      <td>0.0</td>\n",
              "      <td>0.0</td>\n",
              "      <td>1</td>\n",
              "    </tr>\n",
              "    <tr>\n",
              "      <th>2</th>\n",
              "      <td>62.0</td>\n",
              "      <td>80.0</td>\n",
              "      <td>1.010</td>\n",
              "      <td>2.0</td>\n",
              "      <td>3.0</td>\n",
              "      <td>1.0</td>\n",
              "      <td>1.0</td>\n",
              "      <td>0.0</td>\n",
              "      <td>0.0</td>\n",
              "      <td>423.0</td>\n",
              "      <td>53.0</td>\n",
              "      <td>1.8</td>\n",
              "      <td>NaN</td>\n",
              "      <td>NaN</td>\n",
              "      <td>9.6</td>\n",
              "      <td>31</td>\n",
              "      <td>7500</td>\n",
              "      <td>NaN</td>\n",
              "      <td>0.0</td>\n",
              "      <td>1.0</td>\n",
              "      <td>0.0</td>\n",
              "      <td>0.0</td>\n",
              "      <td>0.0</td>\n",
              "      <td>1.0</td>\n",
              "      <td>1</td>\n",
              "    </tr>\n",
              "    <tr>\n",
              "      <th>3</th>\n",
              "      <td>48.0</td>\n",
              "      <td>70.0</td>\n",
              "      <td>1.005</td>\n",
              "      <td>4.0</td>\n",
              "      <td>0.0</td>\n",
              "      <td>1.0</td>\n",
              "      <td>0.0</td>\n",
              "      <td>1.0</td>\n",
              "      <td>0.0</td>\n",
              "      <td>117.0</td>\n",
              "      <td>56.0</td>\n",
              "      <td>3.8</td>\n",
              "      <td>111.0</td>\n",
              "      <td>2.5</td>\n",
              "      <td>11.2</td>\n",
              "      <td>32</td>\n",
              "      <td>6700</td>\n",
              "      <td>3.9</td>\n",
              "      <td>1.0</td>\n",
              "      <td>0.0</td>\n",
              "      <td>0.0</td>\n",
              "      <td>0.0</td>\n",
              "      <td>1.0</td>\n",
              "      <td>1.0</td>\n",
              "      <td>1</td>\n",
              "    </tr>\n",
              "    <tr>\n",
              "      <th>4</th>\n",
              "      <td>51.0</td>\n",
              "      <td>80.0</td>\n",
              "      <td>1.010</td>\n",
              "      <td>2.0</td>\n",
              "      <td>0.0</td>\n",
              "      <td>1.0</td>\n",
              "      <td>1.0</td>\n",
              "      <td>0.0</td>\n",
              "      <td>0.0</td>\n",
              "      <td>106.0</td>\n",
              "      <td>26.0</td>\n",
              "      <td>1.4</td>\n",
              "      <td>NaN</td>\n",
              "      <td>NaN</td>\n",
              "      <td>11.6</td>\n",
              "      <td>35</td>\n",
              "      <td>7300</td>\n",
              "      <td>4.6</td>\n",
              "      <td>0.0</td>\n",
              "      <td>0.0</td>\n",
              "      <td>0.0</td>\n",
              "      <td>1.0</td>\n",
              "      <td>0.0</td>\n",
              "      <td>0.0</td>\n",
              "      <td>1</td>\n",
              "    </tr>\n",
              "    <tr>\n",
              "      <th>5</th>\n",
              "      <td>60.0</td>\n",
              "      <td>90.0</td>\n",
              "      <td>1.015</td>\n",
              "      <td>3.0</td>\n",
              "      <td>0.0</td>\n",
              "      <td>NaN</td>\n",
              "      <td>NaN</td>\n",
              "      <td>0.0</td>\n",
              "      <td>0.0</td>\n",
              "      <td>74.0</td>\n",
              "      <td>25.0</td>\n",
              "      <td>1.1</td>\n",
              "      <td>142.0</td>\n",
              "      <td>3.2</td>\n",
              "      <td>12.2</td>\n",
              "      <td>39</td>\n",
              "      <td>7800</td>\n",
              "      <td>4.4</td>\n",
              "      <td>1.0</td>\n",
              "      <td>1.0</td>\n",
              "      <td>0.0</td>\n",
              "      <td>1.0</td>\n",
              "      <td>1.0</td>\n",
              "      <td>0.0</td>\n",
              "      <td>1</td>\n",
              "    </tr>\n",
              "    <tr>\n",
              "      <th>6</th>\n",
              "      <td>68.0</td>\n",
              "      <td>70.0</td>\n",
              "      <td>1.010</td>\n",
              "      <td>0.0</td>\n",
              "      <td>0.0</td>\n",
              "      <td>NaN</td>\n",
              "      <td>1.0</td>\n",
              "      <td>0.0</td>\n",
              "      <td>0.0</td>\n",
              "      <td>100.0</td>\n",
              "      <td>54.0</td>\n",
              "      <td>24.0</td>\n",
              "      <td>104.0</td>\n",
              "      <td>4.0</td>\n",
              "      <td>12.4</td>\n",
              "      <td>36</td>\n",
              "      <td>NaN</td>\n",
              "      <td>NaN</td>\n",
              "      <td>0.0</td>\n",
              "      <td>0.0</td>\n",
              "      <td>0.0</td>\n",
              "      <td>1.0</td>\n",
              "      <td>0.0</td>\n",
              "      <td>0.0</td>\n",
              "      <td>1</td>\n",
              "    </tr>\n",
              "    <tr>\n",
              "      <th>7</th>\n",
              "      <td>24.0</td>\n",
              "      <td>NaN</td>\n",
              "      <td>1.015</td>\n",
              "      <td>2.0</td>\n",
              "      <td>4.0</td>\n",
              "      <td>1.0</td>\n",
              "      <td>0.0</td>\n",
              "      <td>0.0</td>\n",
              "      <td>0.0</td>\n",
              "      <td>410.0</td>\n",
              "      <td>31.0</td>\n",
              "      <td>1.1</td>\n",
              "      <td>NaN</td>\n",
              "      <td>NaN</td>\n",
              "      <td>12.4</td>\n",
              "      <td>44</td>\n",
              "      <td>6900</td>\n",
              "      <td>5</td>\n",
              "      <td>0.0</td>\n",
              "      <td>1.0</td>\n",
              "      <td>0.0</td>\n",
              "      <td>1.0</td>\n",
              "      <td>1.0</td>\n",
              "      <td>0.0</td>\n",
              "      <td>1</td>\n",
              "    </tr>\n",
              "    <tr>\n",
              "      <th>8</th>\n",
              "      <td>52.0</td>\n",
              "      <td>100.0</td>\n",
              "      <td>1.015</td>\n",
              "      <td>3.0</td>\n",
              "      <td>0.0</td>\n",
              "      <td>1.0</td>\n",
              "      <td>0.0</td>\n",
              "      <td>1.0</td>\n",
              "      <td>0.0</td>\n",
              "      <td>138.0</td>\n",
              "      <td>60.0</td>\n",
              "      <td>1.9</td>\n",
              "      <td>NaN</td>\n",
              "      <td>NaN</td>\n",
              "      <td>10.8</td>\n",
              "      <td>33</td>\n",
              "      <td>9600</td>\n",
              "      <td>4.0</td>\n",
              "      <td>1.0</td>\n",
              "      <td>1.0</td>\n",
              "      <td>0.0</td>\n",
              "      <td>1.0</td>\n",
              "      <td>0.0</td>\n",
              "      <td>1.0</td>\n",
              "      <td>1</td>\n",
              "    </tr>\n",
              "    <tr>\n",
              "      <th>9</th>\n",
              "      <td>53.0</td>\n",
              "      <td>90.0</td>\n",
              "      <td>1.020</td>\n",
              "      <td>2.0</td>\n",
              "      <td>0.0</td>\n",
              "      <td>0.0</td>\n",
              "      <td>0.0</td>\n",
              "      <td>1.0</td>\n",
              "      <td>0.0</td>\n",
              "      <td>70.0</td>\n",
              "      <td>107.0</td>\n",
              "      <td>7.2</td>\n",
              "      <td>114.0</td>\n",
              "      <td>3.7</td>\n",
              "      <td>9.5</td>\n",
              "      <td>29</td>\n",
              "      <td>12100</td>\n",
              "      <td>3.7</td>\n",
              "      <td>1.0</td>\n",
              "      <td>1.0</td>\n",
              "      <td>0.0</td>\n",
              "      <td>0.0</td>\n",
              "      <td>0.0</td>\n",
              "      <td>1.0</td>\n",
              "      <td>1</td>\n",
              "    </tr>\n",
              "  </tbody>\n",
              "</table>\n",
              "</div>"
            ],
            "text/plain": [
              "    age  blood_pressure  specific_gravety  ...  pedal_edema  anemia  ckd\n",
              "0  48.0            80.0             1.020  ...          0.0     0.0    1\n",
              "1   7.0            50.0             1.020  ...          0.0     0.0    1\n",
              "2  62.0            80.0             1.010  ...          0.0     1.0    1\n",
              "3  48.0            70.0             1.005  ...          1.0     1.0    1\n",
              "4  51.0            80.0             1.010  ...          0.0     0.0    1\n",
              "5  60.0            90.0             1.015  ...          1.0     0.0    1\n",
              "6  68.0            70.0             1.010  ...          0.0     0.0    1\n",
              "7  24.0             NaN             1.015  ...          1.0     0.0    1\n",
              "8  52.0           100.0             1.015  ...          0.0     1.0    1\n",
              "9  53.0            90.0             1.020  ...          0.0     1.0    1\n",
              "\n",
              "[10 rows x 25 columns]"
            ]
          },
          "metadata": {
            "tags": []
          },
          "execution_count": 113
        }
      ]
    },
    {
      "cell_type": "markdown",
      "metadata": {
        "id": "4i9u-95PgZFw"
      },
      "source": [
        "### 2. Converting Different datatypes into standard Float32 format"
      ]
    },
    {
      "cell_type": "code",
      "metadata": {
        "colab": {
          "base_uri": "https://localhost:8080/"
        },
        "id": "SvuEIle-VOOI",
        "outputId": "8c4e72a1-99af-44f6-e3aa-d557f78cb5d0"
      },
      "source": [
        "#Converting all datatype into float32 in Full Dataframe\n",
        "#Otherwise KNN Imputation won't work\n",
        "dataframe = pd.DataFrame({col: dataframe[col].astype('category').cat.codes.astype('float32') for col in dataframe}, index=dataframe.index)\n",
        "print(dataframe.dtypes)"
      ],
      "execution_count": 114,
      "outputs": [
        {
          "output_type": "stream",
          "text": [
            "age                        float32\n",
            "blood_pressure             float32\n",
            "specific_gravety           float32\n",
            "albumin                    float32\n",
            "sugar                      float32\n",
            "red_blood_cells            float32\n",
            "pus_cell                   float32\n",
            "pus_cell_clumps            float32\n",
            "bacteria                   float32\n",
            "blood_glucose_random       float32\n",
            "blood _urea                float32\n",
            "serum_creatinine           float32\n",
            "sodium                     float32\n",
            "potassium                  float32\n",
            "hemoglobine                float32\n",
            "packed_cell_volume         float32\n",
            "white_blood_cell_count     float32\n",
            "red_blood_cell_count       float32\n",
            "hypertension               float32\n",
            "diabetes_mellitias         float32\n",
            "coronary_artery_disease    float32\n",
            "appetite                   float32\n",
            "pedal_edema                float32\n",
            "anemia                     float32\n",
            "ckd                        float32\n",
            "dtype: object\n"
          ],
          "name": "stdout"
        }
      ]
    },
    {
      "cell_type": "markdown",
      "metadata": {
        "id": "yRpOpqf7g2Ld"
      },
      "source": [
        "### 3. Resampling Dataset into Traing & Testing Data"
      ]
    },
    {
      "cell_type": "code",
      "metadata": {
        "id": "AFYY6iy5hApN"
      },
      "source": [
        "#Splitting data into train test \n",
        "X, y = dataframe.drop('ckd', axis = 1), dataframe['ckd']\n",
        "from sklearn.model_selection import train_test_split #Import Train Test Split\n",
        "X_train, X_test, y_train, y_test = train_test_split(X,y, test_size = 0.33, random_state = 15) #Spliting Dataset Into Training & Testing Data\n"
      ],
      "execution_count": 115,
      "outputs": []
    },
    {
      "cell_type": "markdown",
      "metadata": {
        "id": "mvsBjxpahDRG"
      },
      "source": [
        "### 4. Imputing Missing Values of ***Training*** Data using KNN Imputation"
      ]
    },
    {
      "cell_type": "code",
      "metadata": {
        "colab": {
          "base_uri": "https://localhost:8080/"
        },
        "id": "tup0ZgraG7tF",
        "outputId": "b32c8037-a94a-4ca1-92d2-247f851d0257"
      },
      "source": [
        "# import numpy as np\n",
        "# Checking dataframe structure as array\n",
        "# print((dataframe[[\"age\",\"ckd\"]]).to_numpy())\n",
        "\n",
        "#K-NN Imputation on Training Dataset\n",
        "from sklearn.impute import KNNImputer #import Knn Imputer\n",
        "imputer = KNNImputer(n_neighbors = 5) #Declaring that 5 nearest neighbour should be decided\n",
        "imputer.fit(X_train) #fitting imputer according to Training Features (X_train)\n",
        "\n",
        "Imputed_X_train = imputer.transform(X_train) #Appling Imputation\n",
        "Imputed_X_train #Print Imputed Arrary"
      ],
      "execution_count": 116,
      "outputs": [
        {
          "output_type": "execute_result",
          "data": {
            "text/plain": [
              "array([[16.,  3.,  3., ...,  1.,  0.,  0.],\n",
              "       [48.,  2.,  2., ...,  1.,  0.,  0.],\n",
              "       [34.,  3.,  3., ...,  1.,  0.,  0.],\n",
              "       ...,\n",
              "       [62.,  5.,  2., ...,  1.,  0.,  0.],\n",
              "       [34.,  2.,  4., ...,  1.,  0.,  0.],\n",
              "       [40.,  5., -1., ...,  0.,  0.,  0.]], dtype=float32)"
            ]
          },
          "metadata": {
            "tags": []
          },
          "execution_count": 116
        }
      ]
    },
    {
      "cell_type": "code",
      "metadata": {
        "colab": {
          "base_uri": "https://localhost:8080/"
        },
        "id": "AdfZPJ0wYDxU",
        "outputId": "f3446b74-a092-4b71-cd46-145c09bb619a"
      },
      "source": [
        "#Checking balence between CKD and NotCKD Patient in Training Data\n",
        "ckd = 0\n",
        "notckd = 0\n",
        "for i in y_train:\n",
        "  if i == 1:\n",
        "    ckd +=1\n",
        "  else:\n",
        "    notckd += 1\n",
        "print(f\"ckd: {ckd},   notckd:{notckd}\")\n",
        "\n",
        "print(f\"CKD - NotCKD: {ckd-notckd}\")"
      ],
      "execution_count": 117,
      "outputs": [
        {
          "output_type": "stream",
          "text": [
            "ckd: 171,   notckd:97\n",
            "CKD - NotCKD: 74\n"
          ],
          "name": "stdout"
        }
      ]
    },
    {
      "cell_type": "markdown",
      "metadata": {
        "id": "82q2qsLijYFw"
      },
      "source": [
        "### 5. Detecting and Removing Outlier from ***Training*** Dataset"
      ]
    },
    {
      "cell_type": "code",
      "metadata": {
        "colab": {
          "base_uri": "https://localhost:8080/"
        },
        "id": "khM0qqTNYYaQ",
        "outputId": "ba6bed5c-f4cf-41c5-ad01-e13851127f56"
      },
      "source": [
        "from sklearn.neighbors import LocalOutlierFactor\n",
        "\n",
        "# summarize the shape of the training dataset\n",
        "print(Imputed_X_train.shape, y_train.shape)\n",
        "\n",
        "# identify outliers in the training dataset\n",
        "lof = LocalOutlierFactor(novelty=True)\n",
        "lof.fit(Imputed_X_train)\n",
        "yhat = lof.predict(Imputed_X_train)\n",
        "\n",
        "# select all rows that are not outliers\n",
        "mask = yhat != -1\n",
        "Outless_X_train, Outless_y_train = Imputed_X_train[mask, :], y_train[mask]\n",
        "\n",
        "# summarize the shape of the updated training dataset\n",
        "print(Outless_X_train.shape, Outless_y_train.shape)"
      ],
      "execution_count": 118,
      "outputs": [
        {
          "output_type": "stream",
          "text": [
            "(268, 24) (268,)\n",
            "(267, 24) (267,)\n"
          ],
          "name": "stdout"
        }
      ]
    },
    {
      "cell_type": "markdown",
      "metadata": {
        "id": "I0NQeh926M1P"
      },
      "source": [
        "### 6. Scalling Training Dataset"
      ]
    },
    {
      "cell_type": "code",
      "metadata": {
        "id": "nOGArr6MYYMq"
      },
      "source": [
        "from sklearn.preprocessing import MinMaxScaler\n",
        "# define the scaler\n",
        "scaler = MinMaxScaler()\n",
        "# fit on the training dataset\n",
        "scaler.fit(Outless_X_train)\n",
        "# scale the training dataset\n",
        "X_train = scaler.transform(Outless_X_train)\n"
      ],
      "execution_count": 119,
      "outputs": []
    },
    {
      "cell_type": "markdown",
      "metadata": {
        "id": "nzOJAgiDi2P8"
      },
      "source": [
        "### Importing and Loading Classification Algorithms"
      ]
    },
    {
      "cell_type": "code",
      "metadata": {
        "id": "R_jtt5a4YX4K"
      },
      "source": [
        "#Importing Classification Models\n",
        "\n",
        "from sklearn.naive_bayes import MultinomialNB,GaussianNB\n",
        "from sklearn.svm import SVC\n",
        "from sklearn.linear_model import LogisticRegression\n",
        "from sklearn.tree import DecisionTreeClassifier\n",
        "from sklearn.ensemble import RandomForestClassifier\n",
        "from sklearn.neighbors import KNeighborsClassifier\n",
        "\n",
        "\n",
        "#Training Models\n",
        "SVCmodel = SVC().fit(X_train, Outless_y_train)\n",
        "# MNBmodel = MultinomialNB().fit(Imputed_X_train, y_train)\n",
        "GNBmodel = GaussianNB().fit(X_train, Outless_y_train)\n",
        "DTmodel = DecisionTreeClassifier().fit(X_train, Outless_y_train)\n",
        "RFmodel = RandomForestClassifier().fit(X_train, Outless_y_train)\n",
        "LRmodel = LogisticRegression().fit(X_train, Outless_y_train)\n",
        "KNNmodel = KNeighborsClassifier(n_neighbors = 5).fit(X_train, Outless_y_train)"
      ],
      "execution_count": 120,
      "outputs": []
    },
    {
      "cell_type": "code",
      "metadata": {
        "id": "uzT2osnChbXu"
      },
      "source": [
        ""
      ],
      "execution_count": 120,
      "outputs": []
    },
    {
      "cell_type": "markdown",
      "metadata": {
        "id": "jFIMLc-S-Q7u"
      },
      "source": [
        "# Testing Section"
      ]
    },
    {
      "cell_type": "markdown",
      "metadata": {
        "id": "2ELgUr-_mbUY"
      },
      "source": [
        "## Imputation on Testing Dataset"
      ]
    },
    {
      "cell_type": "markdown",
      "metadata": {
        "id": "8j6WHwf3hcc8"
      },
      "source": [
        "### Imputing Missing Values of **Testing** Data using KNN Imputation"
      ]
    },
    {
      "cell_type": "code",
      "metadata": {
        "colab": {
          "base_uri": "https://localhost:8080/"
        },
        "id": "q8Y3m7OIYn55",
        "outputId": "ed25d16c-1d2c-4ad7-9b98-c339d86046ee"
      },
      "source": [
        "#K-NN Imputation on Testing Dataset\n",
        "Imputed_X_test = imputer.transform(X_test) #Appling Imputation\n",
        "Imputed_X_test #Print Imputed Arrary"
      ],
      "execution_count": 121,
      "outputs": [
        {
          "output_type": "execute_result",
          "data": {
            "text/plain": [
              "array([[24.,  1.,  4., ...,  1.,  0.,  0.],\n",
              "       [52.,  4., -1., ...,  1.,  0.,  0.],\n",
              "       [56.,  2.,  1., ...,  1.,  0.,  0.],\n",
              "       ...,\n",
              "       [57.,  2.,  3., ...,  1.,  1.,  0.],\n",
              "       [59.,  3.,  1., ...,  1.,  1.,  0.],\n",
              "       [26.,  2., -1., ...,  1.,  0.,  1.]], dtype=float32)"
            ]
          },
          "metadata": {
            "tags": []
          },
          "execution_count": 121
        }
      ]
    },
    {
      "cell_type": "code",
      "metadata": {
        "colab": {
          "base_uri": "https://localhost:8080/"
        },
        "id": "E3mKUgENfNMV",
        "outputId": "6849ed03-7ca2-4e03-cd4c-267dccbf1526"
      },
      "source": [
        "#Balence between CKD and NotCKD Patient in Training Data\n",
        "ckd = 0\n",
        "notckd = 0\n",
        "for i in y_test:\n",
        "  if i == 1:\n",
        "    ckd +=1\n",
        "  else:\n",
        "    notckd += 1\n",
        "print(f\"ckd: {ckd},   notckd:{notckd}\")\n",
        "\n",
        "print(f\"CKD - NotCKD: {ckd-notckd}\")"
      ],
      "execution_count": 122,
      "outputs": [
        {
          "output_type": "stream",
          "text": [
            "ckd: 79,   notckd:53\n",
            "CKD - NotCKD: 26\n"
          ],
          "name": "stdout"
        }
      ]
    },
    {
      "cell_type": "code",
      "metadata": {
        "id": "rsgdbyfxh2ye"
      },
      "source": [
        ""
      ],
      "execution_count": 122,
      "outputs": []
    },
    {
      "cell_type": "markdown",
      "metadata": {
        "id": "s0pFlFvPh5Dp"
      },
      "source": [
        "### Evaluating Model After KNN Imputation"
      ]
    },
    {
      "cell_type": "code",
      "metadata": {
        "id": "mdEav8rwYnP0"
      },
      "source": [
        "# #Evaluating Model\n",
        "\n",
        "# from sklearn.metrics import accuracy_score, confusion_matrix, classification_report\n",
        "\n",
        "# print(\">>>>>>>>>>>>>>     Support Vector Machine     <<<<<<<<<<<<\")\n",
        "# pred = SVCmodel.predict(Imputed_X_test)\n",
        "# score = accuracy_score(y_test,pred)\n",
        "# print(score)\n",
        "# conf = confusion_matrix(y_test,pred)\n",
        "# print(conf) \n",
        "# report = classification_report(y_test,pred)\n",
        "# print(report)\n",
        "# print(\"\\n\")\n",
        "\n",
        "\n",
        "# # print(\">>>>>>>>>>>>>>     Multinomial Naive Bayes     <<<<<<<<<<<<\")\n",
        "# # pred = MNBmodel.predict(X_test)\n",
        "# # score = accuracy_score(y_test,pred)\n",
        "# # print(score)\n",
        "# # conf = confusion_matrix(y_test,pred)\n",
        "# # print(conf)\n",
        "# # report = classification_report(y_test,pred)\n",
        "# # print(report)\n",
        "# # print(\" \")\n",
        "\n",
        "# print(\">>>>>>>>>>>>>>     Gaussian Naive Bayes     <<<<<<<<<<<<\")\n",
        "# pred = GNBmodel.predict(Imputed_X_test)\n",
        "# score = accuracy_score(y_test,pred)\n",
        "# print(score)\n",
        "# conf = confusion_matrix(y_test,pred)\n",
        "# print(conf)\n",
        "# report = classification_report(y_test,pred)\n",
        "# print(report)\n",
        "# print(\" \")\n",
        "\n",
        "# print(\">>>>>>>>>>>>>>     Decission Tree      <<<<<<<<<<<<\")\n",
        "# pred = DTmodel.predict(Imputed_X_test)\n",
        "# score = accuracy_score(y_test,pred)\n",
        "# print(score)\n",
        "# conf = confusion_matrix(y_test,pred)\n",
        "# print(conf)\n",
        "# report = classification_report(y_test,pred)\n",
        "# print(report)\n",
        "# print(\" \")\n",
        "\n",
        "# print(\">>>>>>>>>>>>>>     Random Forest     <<<<<<<<<<<<\")\n",
        "# pred = RFmodel.predict(Imputed_X_test)\n",
        "# score = accuracy_score(y_test,pred)\n",
        "# print(score)\n",
        "# conf = confusion_matrix(y_test,pred)\n",
        "# print(conf)\n",
        "# report = classification_report(y_test,pred)\n",
        "# print(report)\n",
        "# print(\" \")\n",
        "# print(\">>>>>>>>>>>>>>     Logistic Regression     <<<<<<<<<<<<\")\n",
        "# pred = LRmodel.predict(Imputed_X_test)\n",
        "# score = accuracy_score(y_test,pred)\n",
        "# print(score)\n",
        "# conf = confusion_matrix(y_test,pred)\n",
        "# print(conf)\n",
        "# report = classification_report(y_test,pred)\n",
        "# print(report)\n",
        "# print(\" \")"
      ],
      "execution_count": 123,
      "outputs": []
    },
    {
      "cell_type": "markdown",
      "metadata": {
        "id": "MY5uGmnMmrF6"
      },
      "source": [
        "## Removing Outlier from Testing Dataset"
      ]
    },
    {
      "cell_type": "markdown",
      "metadata": {
        "id": "0JsRjK7BnG3Q"
      },
      "source": [
        "### Removing Outlier from Imputed ***Testing*** Dataset"
      ]
    },
    {
      "cell_type": "code",
      "metadata": {
        "colab": {
          "base_uri": "https://localhost:8080/"
        },
        "id": "RmFCojtDnEJX",
        "outputId": "f74e1862-f459-45c6-9fd9-f9a905838e80"
      },
      "source": [
        "# summarize the shape of the training dataset\n",
        "print(Imputed_X_test.shape, y_test.shape)\n",
        "\n",
        "# identify outliers in the training dataset\n",
        "# lof = LocalOutlierFactor(novelty=True)\n",
        "yhat = lof.predict(Imputed_X_test)\n",
        "\n",
        "# select all rows that are not outliers\n",
        "mask = yhat != -1\n",
        "Outless_X_test, Outless_y_test = Imputed_X_test[mask, :], y_test[mask]\n",
        "\n",
        "# summarize the shape of the updated training dataset\n",
        "print(Outless_X_test.shape, Outless_y_test.shape)"
      ],
      "execution_count": 124,
      "outputs": [
        {
          "output_type": "stream",
          "text": [
            "(132, 24) (132,)\n",
            "(131, 24) (131,)\n"
          ],
          "name": "stdout"
        }
      ]
    },
    {
      "cell_type": "markdown",
      "metadata": {
        "id": "O-94IHAjmCqR"
      },
      "source": [
        "### Evaluating Model After Removing Outlier"
      ]
    },
    {
      "cell_type": "code",
      "metadata": {
        "id": "R_mceaJVmL04"
      },
      "source": [
        "# #Evaluating Model\n",
        "\n",
        "# from sklearn.metrics import accuracy_score, confusion_matrix, classification_report\n",
        "\n",
        "# print(\">>>>>>>>>>>>>>     Support Vector Machine     <<<<<<<<<<<<\")\n",
        "# pred = SVCmodel.predict(Outless_X_test)\n",
        "# score = accuracy_score(Outless_y_test,pred)\n",
        "# print(score)\n",
        "# conf = confusion_matrix(Outless_y_test,pred)\n",
        "# print(conf) \n",
        "# report = classification_report(Outless_y_test,pred)\n",
        "# print(report)\n",
        "# print(\"\\n\")\n",
        "\n",
        "\n",
        "# # print(\">>>>>>>>>>>>>>     Multinomial Naive Bayes     <<<<<<<<<<<<\")\n",
        "# # pred = MNBmodel.predict(Outless_X_test)\n",
        "# # score = accuracy_score(Outless_y_test,pred)\n",
        "# # print(score)\n",
        "# # conf = confusion_matrix(Outless_y_test,pred)\n",
        "# # print(conf)\n",
        "# # report = classification_report(Outless_y_test,pred)\n",
        "# # print(report)\n",
        "# # print(\" \")\n",
        "\n",
        "# print(\">>>>>>>>>>>>>>     Gaussian Naive Bayes     <<<<<<<<<<<<\")\n",
        "# pred = GNBmodel.predict(Outless_X_test)\n",
        "# score = accuracy_score(Outless_y_test,pred)\n",
        "# print(score)\n",
        "# conf = confusion_matrix(Outless_y_test,pred)\n",
        "# print(conf)\n",
        "# report = classification_report(Outless_y_test,pred)\n",
        "# print(report)\n",
        "# print(\" \")\n",
        "\n",
        "# print(\">>>>>>>>>>>>>>     Decission Tree      <<<<<<<<<<<<\")\n",
        "# pred = DTmodel.predict(Outless_X_test)\n",
        "# score = accuracy_score(Outless_y_test,pred)\n",
        "# print(score)\n",
        "# conf = confusion_matrix(Outless_y_test,pred)\n",
        "# print(conf)\n",
        "# report = classification_report(Outless_y_test,pred)\n",
        "# print(report)\n",
        "# print(\" \")\n",
        "\n",
        "# print(\">>>>>>>>>>>>>>     Random Forest     <<<<<<<<<<<<\")\n",
        "# pred = RFmodel.predict(Outless_X_test)\n",
        "# score = accuracy_score(Outless_y_test,pred)\n",
        "# print(score)\n",
        "# conf = confusion_matrix(Outless_y_test,pred)\n",
        "# print(conf)\n",
        "# report = classification_report(Outless_y_test,pred)\n",
        "# print(report)\n",
        "# print(\" \")\n",
        "# print(\">>>>>>>>>>>>>>     Logistic Regression     <<<<<<<<<<<<\")\n",
        "# pred = LRmodel.predict(Outless_X_test)\n",
        "# score = accuracy_score(Outless_y_test,pred)\n",
        "# print(score)\n",
        "# conf = confusion_matrix(Outless_y_test,pred)\n",
        "# print(conf)\n",
        "# report = classification_report(Outless_y_test,pred)\n",
        "# print(report)\n",
        "# print(\" \")"
      ],
      "execution_count": 125,
      "outputs": []
    },
    {
      "cell_type": "code",
      "metadata": {
        "colab": {
          "base_uri": "https://localhost:8080/"
        },
        "id": "cN-Es0tZZ6aI",
        "outputId": "b862eb32-42ca-4fc7-f673-cbbfdb3e494f"
      },
      "source": [
        "y_test.to_numpy()"
      ],
      "execution_count": 126,
      "outputs": [
        {
          "output_type": "execute_result",
          "data": {
            "text/plain": [
              "array([0., 1., 1., 1., 1., 0., 0., 1., 0., 1., 1., 0., 1., 1., 0., 0., 1.,\n",
              "       1., 1., 1., 0., 1., 0., 0., 1., 1., 1., 0., 1., 1., 0., 1., 0., 1.,\n",
              "       0., 0., 0., 0., 0., 0., 1., 1., 1., 1., 0., 0., 0., 1., 1., 1., 0.,\n",
              "       0., 1., 1., 0., 0., 1., 1., 1., 0., 1., 1., 1., 0., 0., 1., 1., 0.,\n",
              "       1., 0., 0., 1., 1., 1., 0., 0., 1., 1., 1., 0., 1., 0., 1., 1., 1.,\n",
              "       1., 1., 1., 1., 1., 0., 0., 1., 1., 1., 1., 1., 1., 1., 0., 1., 1.,\n",
              "       0., 1., 1., 0., 1., 0., 1., 0., 1., 0., 1., 1., 0., 0., 1., 0., 0.,\n",
              "       1., 1., 1., 1., 0., 0., 0., 1., 0., 0., 1., 1., 1.], dtype=float32)"
            ]
          },
          "metadata": {
            "tags": []
          },
          "execution_count": 126
        }
      ]
    },
    {
      "cell_type": "code",
      "metadata": {
        "colab": {
          "base_uri": "https://localhost:8080/"
        },
        "id": "5vOsSyqpaG81",
        "outputId": "9b25fe3d-d4cf-4abe-efc8-a058cce5463f"
      },
      "source": [
        "Imputed_X_test"
      ],
      "execution_count": 127,
      "outputs": [
        {
          "output_type": "execute_result",
          "data": {
            "text/plain": [
              "array([[24.,  1.,  4., ...,  1.,  0.,  0.],\n",
              "       [52.,  4., -1., ...,  1.,  0.,  0.],\n",
              "       [56.,  2.,  1., ...,  1.,  0.,  0.],\n",
              "       ...,\n",
              "       [57.,  2.,  3., ...,  1.,  1.,  0.],\n",
              "       [59.,  3.,  1., ...,  1.,  1.,  0.],\n",
              "       [26.,  2., -1., ...,  1.,  0.,  1.]], dtype=float32)"
            ]
          },
          "metadata": {
            "tags": []
          },
          "execution_count": 127
        }
      ]
    },
    {
      "cell_type": "markdown",
      "metadata": {
        "id": "_Z3G1Lrs6zZX"
      },
      "source": [
        "## Scalling Testing Dataset"
      ]
    },
    {
      "cell_type": "markdown",
      "metadata": {
        "id": "Xm0CiA069a7Q"
      },
      "source": [
        "### Scalling Missing value & Outlier free Testing Dataset"
      ]
    },
    {
      "cell_type": "code",
      "metadata": {
        "colab": {
          "base_uri": "https://localhost:8080/"
        },
        "id": "kQXmrwj165hf",
        "outputId": "38e90aee-88d1-4479-e754-28499f11065c"
      },
      "source": [
        "# scale the test dataset\n",
        "X_test = scaler.transform(Outless_X_test)\n",
        "\n",
        "X_test.shape, Outless_y_test.shape"
      ],
      "execution_count": 128,
      "outputs": [
        {
          "output_type": "execute_result",
          "data": {
            "text/plain": [
              "((131, 24), (131,))"
            ]
          },
          "metadata": {
            "tags": []
          },
          "execution_count": 128
        }
      ]
    },
    {
      "cell_type": "markdown",
      "metadata": {
        "id": "2wWdvLW-9nb2"
      },
      "source": [
        "### Evaluating Model"
      ]
    },
    {
      "cell_type": "code",
      "metadata": {
        "colab": {
          "base_uri": "https://localhost:8080/"
        },
        "id": "PBOBsQt37Yd5",
        "outputId": "468e6dbd-1e1b-4d2c-988c-b040158dc4cc"
      },
      "source": [
        "#Evaluating Model\n",
        "\n",
        "from sklearn.metrics import accuracy_score, confusion_matrix, classification_report\n",
        "\n",
        "print(\">>>>>>>>>>>>>>     Support Vector Machine     <<<<<<<<<<<<\")\n",
        "pred = SVCmodel.predict(X_test)\n",
        "score = accuracy_score(Outless_y_test,pred)\n",
        "print(score)\n",
        "conf = confusion_matrix(Outless_y_test,pred)\n",
        "print(conf) \n",
        "report = classification_report(Outless_y_test,pred)\n",
        "print(report)\n",
        "print(\"\\n\")\n",
        "\n",
        "\n",
        "# print(\">>>>>>>>>>>>>>     Multinomial Naive Bayes     <<<<<<<<<<<<\")\n",
        "# pred = MNBmodel.predict(Outless_X_test)\n",
        "# score = accuracy_score(Outless_y_test,pred)\n",
        "# print(score)\n",
        "# conf = confusion_matrix(Outless_y_test,pred)\n",
        "# print(conf)\n",
        "# report = classification_report(Outless_y_test,pred)\n",
        "# print(report)\n",
        "# print(\" \")\n",
        "\n",
        "print(\">>>>>>>>>>>>>>     Gaussian Naive Bayes     <<<<<<<<<<<<\")\n",
        "pred = GNBmodel.predict(X_test)\n",
        "score = accuracy_score(Outless_y_test,pred)\n",
        "print(score)\n",
        "conf = confusion_matrix(Outless_y_test,pred)\n",
        "print(conf)\n",
        "report = classification_report(Outless_y_test,pred)\n",
        "print(report)\n",
        "print(\" \")\n",
        "\n",
        "print(\">>>>>>>>>>>>>>     Decission Tree      <<<<<<<<<<<<\")\n",
        "pred = DTmodel.predict(X_test)\n",
        "score = accuracy_score(Outless_y_test,pred)\n",
        "print(score)\n",
        "conf = confusion_matrix(Outless_y_test,pred)\n",
        "print(conf)\n",
        "report = classification_report(Outless_y_test,pred)\n",
        "print(report)\n",
        "print(\" \")\n",
        "\n",
        "print(\">>>>>>>>>>>>>>     Random Forest     <<<<<<<<<<<<\")\n",
        "pred = RFmodel.predict(X_test)\n",
        "score = accuracy_score(Outless_y_test,pred)\n",
        "print(score)\n",
        "conf = confusion_matrix(Outless_y_test,pred)\n",
        "print(conf)\n",
        "report = classification_report(Outless_y_test,pred)\n",
        "print(report)\n",
        "print(\" \")\n",
        "print(\">>>>>>>>>>>>>>     Logistic Regression     <<<<<<<<<<<<\")\n",
        "pred = LRmodel.predict(X_test)\n",
        "score = accuracy_score(Outless_y_test,pred)\n",
        "print(score)\n",
        "conf = confusion_matrix(Outless_y_test,pred)\n",
        "print(conf)\n",
        "report = classification_report(Outless_y_test,pred)\n",
        "print(report)\n",
        "print(\" \")"
      ],
      "execution_count": 129,
      "outputs": [
        {
          "output_type": "stream",
          "text": [
            ">>>>>>>>>>>>>>     Support Vector Machine     <<<<<<<<<<<<\n",
            "0.9923664122137404\n",
            "[[52  1]\n",
            " [ 0 78]]\n",
            "              precision    recall  f1-score   support\n",
            "\n",
            "         0.0       1.00      0.98      0.99        53\n",
            "         1.0       0.99      1.00      0.99        78\n",
            "\n",
            "    accuracy                           0.99       131\n",
            "   macro avg       0.99      0.99      0.99       131\n",
            "weighted avg       0.99      0.99      0.99       131\n",
            "\n",
            "\n",
            "\n",
            ">>>>>>>>>>>>>>     Gaussian Naive Bayes     <<<<<<<<<<<<\n",
            "0.9236641221374046\n",
            "[[51  2]\n",
            " [ 8 70]]\n",
            "              precision    recall  f1-score   support\n",
            "\n",
            "         0.0       0.86      0.96      0.91        53\n",
            "         1.0       0.97      0.90      0.93        78\n",
            "\n",
            "    accuracy                           0.92       131\n",
            "   macro avg       0.92      0.93      0.92       131\n",
            "weighted avg       0.93      0.92      0.92       131\n",
            "\n",
            " \n",
            ">>>>>>>>>>>>>>     Decission Tree      <<<<<<<<<<<<\n",
            "0.9618320610687023\n",
            "[[51  2]\n",
            " [ 3 75]]\n",
            "              precision    recall  f1-score   support\n",
            "\n",
            "         0.0       0.94      0.96      0.95        53\n",
            "         1.0       0.97      0.96      0.97        78\n",
            "\n",
            "    accuracy                           0.96       131\n",
            "   macro avg       0.96      0.96      0.96       131\n",
            "weighted avg       0.96      0.96      0.96       131\n",
            "\n",
            " \n",
            ">>>>>>>>>>>>>>     Random Forest     <<<<<<<<<<<<\n",
            "0.9847328244274809\n",
            "[[51  2]\n",
            " [ 0 78]]\n",
            "              precision    recall  f1-score   support\n",
            "\n",
            "         0.0       1.00      0.96      0.98        53\n",
            "         1.0       0.97      1.00      0.99        78\n",
            "\n",
            "    accuracy                           0.98       131\n",
            "   macro avg       0.99      0.98      0.98       131\n",
            "weighted avg       0.99      0.98      0.98       131\n",
            "\n",
            " \n",
            ">>>>>>>>>>>>>>     Logistic Regression     <<<<<<<<<<<<\n",
            "0.9770992366412213\n",
            "[[50  3]\n",
            " [ 0 78]]\n",
            "              precision    recall  f1-score   support\n",
            "\n",
            "         0.0       1.00      0.94      0.97        53\n",
            "         1.0       0.96      1.00      0.98        78\n",
            "\n",
            "    accuracy                           0.98       131\n",
            "   macro avg       0.98      0.97      0.98       131\n",
            "weighted avg       0.98      0.98      0.98       131\n",
            "\n",
            " \n"
          ],
          "name": "stdout"
        }
      ]
    }
  ]
}