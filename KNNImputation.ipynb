{
  "nbformat": 4,
  "nbformat_minor": 0,
  "metadata": {
    "colab": {
      "name": "KNNImputation.ipynb",
      "provenance": [],
      "authorship_tag": "ABX9TyOObcOJvzjMVjU3XcaWmlxQ",
      "include_colab_link": true
    },
    "kernelspec": {
      "name": "python3",
      "display_name": "Python 3"
    },
    "language_info": {
      "name": "python"
    }
  },
  "cells": [
    {
      "cell_type": "markdown",
      "metadata": {
        "id": "view-in-github",
        "colab_type": "text"
      },
      "source": [
        "<a href=\"https://colab.research.google.com/github/Muhammad-Taufiq-Khan/CKD/blob/main/KNNImputation.ipynb\" target=\"_parent\"><img src=\"https://colab.research.google.com/assets/colab-badge.svg\" alt=\"Open In Colab\"/></a>"
      ]
    },
    {
      "cell_type": "code",
      "metadata": {
        "colab": {
          "base_uri": "https://localhost:8080/",
          "height": 162
        },
        "id": "vgrRpw19HYYC",
        "outputId": "7dae416f-2902-4db1-b0bd-01979bc0a03d"
      },
      "source": [
        "import pandas as pd #Data Manioulation\n",
        "\n",
        "url = 'https://raw.githubusercontent.com/Muhammad-Taufiq-Khan/CKD/main/ckd.csv'\n",
        "dataframe = pd.read_csv(url)\n",
        "dataframe.head(3)"
      ],
      "execution_count": null,
      "outputs": [
        {
          "output_type": "execute_result",
          "data": {
            "text/html": [
              "<div>\n",
              "<style scoped>\n",
              "    .dataframe tbody tr th:only-of-type {\n",
              "        vertical-align: middle;\n",
              "    }\n",
              "\n",
              "    .dataframe tbody tr th {\n",
              "        vertical-align: top;\n",
              "    }\n",
              "\n",
              "    .dataframe thead th {\n",
              "        text-align: right;\n",
              "    }\n",
              "</style>\n",
              "<table border=\"1\" class=\"dataframe\">\n",
              "  <thead>\n",
              "    <tr style=\"text-align: right;\">\n",
              "      <th></th>\n",
              "      <th>id</th>\n",
              "      <th>age</th>\n",
              "      <th>bp</th>\n",
              "      <th>sg</th>\n",
              "      <th>al</th>\n",
              "      <th>su</th>\n",
              "      <th>rbc</th>\n",
              "      <th>pc</th>\n",
              "      <th>pcc</th>\n",
              "      <th>ba</th>\n",
              "      <th>bgr</th>\n",
              "      <th>bu</th>\n",
              "      <th>sc</th>\n",
              "      <th>sod</th>\n",
              "      <th>pot</th>\n",
              "      <th>hemo</th>\n",
              "      <th>pcv</th>\n",
              "      <th>wc</th>\n",
              "      <th>rc</th>\n",
              "      <th>htn</th>\n",
              "      <th>dm</th>\n",
              "      <th>cad</th>\n",
              "      <th>appet</th>\n",
              "      <th>pe</th>\n",
              "      <th>ane</th>\n",
              "      <th>classification</th>\n",
              "    </tr>\n",
              "  </thead>\n",
              "  <tbody>\n",
              "    <tr>\n",
              "      <th>0</th>\n",
              "      <td>0</td>\n",
              "      <td>48.0</td>\n",
              "      <td>80.0</td>\n",
              "      <td>1.02</td>\n",
              "      <td>1.0</td>\n",
              "      <td>0.0</td>\n",
              "      <td>NaN</td>\n",
              "      <td>normal</td>\n",
              "      <td>notpresent</td>\n",
              "      <td>notpresent</td>\n",
              "      <td>121.0</td>\n",
              "      <td>36.0</td>\n",
              "      <td>1.2</td>\n",
              "      <td>NaN</td>\n",
              "      <td>NaN</td>\n",
              "      <td>15.4</td>\n",
              "      <td>44</td>\n",
              "      <td>7800</td>\n",
              "      <td>5.2</td>\n",
              "      <td>yes</td>\n",
              "      <td>yes</td>\n",
              "      <td>no</td>\n",
              "      <td>good</td>\n",
              "      <td>no</td>\n",
              "      <td>no</td>\n",
              "      <td>ckd</td>\n",
              "    </tr>\n",
              "    <tr>\n",
              "      <th>1</th>\n",
              "      <td>1</td>\n",
              "      <td>7.0</td>\n",
              "      <td>50.0</td>\n",
              "      <td>1.02</td>\n",
              "      <td>4.0</td>\n",
              "      <td>0.0</td>\n",
              "      <td>NaN</td>\n",
              "      <td>normal</td>\n",
              "      <td>notpresent</td>\n",
              "      <td>notpresent</td>\n",
              "      <td>NaN</td>\n",
              "      <td>18.0</td>\n",
              "      <td>0.8</td>\n",
              "      <td>NaN</td>\n",
              "      <td>NaN</td>\n",
              "      <td>11.3</td>\n",
              "      <td>38</td>\n",
              "      <td>6000</td>\n",
              "      <td>NaN</td>\n",
              "      <td>no</td>\n",
              "      <td>no</td>\n",
              "      <td>no</td>\n",
              "      <td>good</td>\n",
              "      <td>no</td>\n",
              "      <td>no</td>\n",
              "      <td>ckd</td>\n",
              "    </tr>\n",
              "    <tr>\n",
              "      <th>2</th>\n",
              "      <td>2</td>\n",
              "      <td>62.0</td>\n",
              "      <td>80.0</td>\n",
              "      <td>1.01</td>\n",
              "      <td>2.0</td>\n",
              "      <td>3.0</td>\n",
              "      <td>normal</td>\n",
              "      <td>normal</td>\n",
              "      <td>notpresent</td>\n",
              "      <td>notpresent</td>\n",
              "      <td>423.0</td>\n",
              "      <td>53.0</td>\n",
              "      <td>1.8</td>\n",
              "      <td>NaN</td>\n",
              "      <td>NaN</td>\n",
              "      <td>9.6</td>\n",
              "      <td>31</td>\n",
              "      <td>7500</td>\n",
              "      <td>NaN</td>\n",
              "      <td>no</td>\n",
              "      <td>yes</td>\n",
              "      <td>no</td>\n",
              "      <td>poor</td>\n",
              "      <td>no</td>\n",
              "      <td>yes</td>\n",
              "      <td>ckd</td>\n",
              "    </tr>\n",
              "  </tbody>\n",
              "</table>\n",
              "</div>"
            ],
            "text/plain": [
              "   id   age    bp    sg   al   su  ...   dm cad appet  pe  ane  classification\n",
              "0   0  48.0  80.0  1.02  1.0  0.0  ...  yes  no  good  no   no             ckd\n",
              "1   1   7.0  50.0  1.02  4.0  0.0  ...   no  no  good  no   no             ckd\n",
              "2   2  62.0  80.0  1.01  2.0  3.0  ...  yes  no  poor  no  yes             ckd\n",
              "\n",
              "[3 rows x 26 columns]"
            ]
          },
          "metadata": {
            "tags": []
          },
          "execution_count": 26
        }
      ]
    },
    {
      "cell_type": "code",
      "metadata": {
        "colab": {
          "base_uri": "https://localhost:8080/"
        },
        "id": "WMs4JVh-MEfG",
        "outputId": "ef4ad9a7-fb5e-4e46-dd5c-ed1fd40ba43c"
      },
      "source": [
        "dataframe.isnull().sum()"
      ],
      "execution_count": null,
      "outputs": [
        {
          "output_type": "execute_result",
          "data": {
            "text/plain": [
              "id                  0\n",
              "age                 9\n",
              "bp                 12\n",
              "sg                 47\n",
              "al                 46\n",
              "su                 49\n",
              "rbc               152\n",
              "pc                 65\n",
              "pcc                 4\n",
              "ba                  4\n",
              "bgr                44\n",
              "bu                 19\n",
              "sc                 17\n",
              "sod                87\n",
              "pot                88\n",
              "hemo               52\n",
              "pcv                70\n",
              "wc                105\n",
              "rc                130\n",
              "htn                 2\n",
              "dm                  2\n",
              "cad                 2\n",
              "appet               1\n",
              "pe                  1\n",
              "ane                 1\n",
              "classification      0\n",
              "dtype: int64"
            ]
          },
          "metadata": {
            "tags": []
          },
          "execution_count": 27
        }
      ]
    },
    {
      "cell_type": "code",
      "metadata": {
        "colab": {
          "base_uri": "https://localhost:8080/"
        },
        "id": "RHyRPfJeMBVH",
        "outputId": "d0057712-4780-49c8-ce3a-76fff761f224"
      },
      "source": [
        "dataframe.dtypes"
      ],
      "execution_count": null,
      "outputs": [
        {
          "output_type": "execute_result",
          "data": {
            "text/plain": [
              "id                  int64\n",
              "age               float64\n",
              "bp                float64\n",
              "sg                float64\n",
              "al                float64\n",
              "su                float64\n",
              "rbc                object\n",
              "pc                 object\n",
              "pcc                object\n",
              "ba                 object\n",
              "bgr               float64\n",
              "bu                float64\n",
              "sc                float64\n",
              "sod               float64\n",
              "pot               float64\n",
              "hemo              float64\n",
              "pcv                object\n",
              "wc                 object\n",
              "rc                 object\n",
              "htn                object\n",
              "dm                 object\n",
              "cad                object\n",
              "appet              object\n",
              "pe                 object\n",
              "ane                object\n",
              "classification     object\n",
              "dtype: object"
            ]
          },
          "metadata": {
            "tags": []
          },
          "execution_count": 28
        }
      ]
    },
    {
      "cell_type": "code",
      "metadata": {
        "colab": {
          "base_uri": "https://localhost:8080/",
          "height": 350
        },
        "id": "qhWQcd8QHkRB",
        "outputId": "8498ab5e-3550-4b4b-d3d0-e50e20933be2"
      },
      "source": [
        "import seaborn as sns\n",
        "ImpDf = dataframe.copy()\n",
        "ImpDf.drop(ImpDf.index[ImpDf[\"classification\"]==\"ckd\\t\"], inplace = True)\n",
        "sns.countplot(\"classification\", data = ImpDf)"
      ],
      "execution_count": null,
      "outputs": [
        {
          "output_type": "stream",
          "text": [
            "/usr/local/lib/python3.7/dist-packages/seaborn/_decorators.py:43: FutureWarning: Pass the following variable as a keyword arg: x. From version 0.12, the only valid positional argument will be `data`, and passing other arguments without an explicit keyword will result in an error or misinterpretation.\n",
            "  FutureWarning\n"
          ],
          "name": "stderr"
        },
        {
          "output_type": "execute_result",
          "data": {
            "text/plain": [
              "<matplotlib.axes._subplots.AxesSubplot at 0x7f52a1e00610>"
            ]
          },
          "metadata": {
            "tags": []
          },
          "execution_count": 29
        },
        {
          "output_type": "display_data",
          "data": {
            "image/png": "[encoded data removed]",
            "text/plain": [
              "<Figure size 432x288 with 1 Axes>"
            ]
          },
          "metadata": {
            "tags": [],
            "needs_background": "light"
          }
        }
      ]
    },
    {
      "cell_type": "code",
      "metadata": {
        "colab": {
          "base_uri": "https://localhost:8080/"
        },
        "id": "L8FiTi6cJB3T",
        "outputId": "d3e05c70-feba-40b5-f82d-c791b18d5749"
      },
      "source": [
        "df3.shape"
      ],
      "execution_count": null,
      "outputs": [
        {
          "output_type": "execute_result",
          "data": {
            "text/plain": [
              "(398, 26)"
            ]
          },
          "metadata": {
            "tags": []
          },
          "execution_count": 11
        }
      ]
    },
    {
      "cell_type": "code",
      "metadata": {
        "colab": {
          "base_uri": "https://localhost:8080/"
        },
        "id": "FXR9dPU4KsBp",
        "outputId": "0240b2f8-9f73-49d4-b0c1-d1800bdef723"
      },
      "source": [
        "#Converting all datatype into float32\n",
        "ImpDf = pd.DataFrame({col: ImpDf[col].astype('category').cat.codes.astype('float32') for col in ImpDf}, index=ImpDf.index)\n",
        "print(ImpDf.dtypes)"
      ],
      "execution_count": null,
      "outputs": [
        {
          "output_type": "stream",
          "text": [
            "id                float32\n",
            "age               float32\n",
            "bp                float32\n",
            "sg                float32\n",
            "al                float32\n",
            "su                float32\n",
            "rbc               float32\n",
            "pc                float32\n",
            "pcc               float32\n",
            "ba                float32\n",
            "bgr               float32\n",
            "bu                float32\n",
            "sc                float32\n",
            "sod               float32\n",
            "pot               float32\n",
            "hemo              float32\n",
            "pcv               float32\n",
            "wc                float32\n",
            "rc                float32\n",
            "htn               float32\n",
            "dm                float32\n",
            "cad               float32\n",
            "appet             float32\n",
            "pe                float32\n",
            "ane               float32\n",
            "classification    float32\n",
            "dtype: object\n"
          ],
          "name": "stdout"
        }
      ]
    },
    {
      "cell_type": "code",
      "metadata": {
        "id": "9i-KMcbEIDpf"
      },
      "source": [
        "# knn imputation transform for the horse colic dataset\n",
        "from sklearn.impute import KNNImputer\n",
        "from sklearn.ensemble import RandomForestClassifier\n",
        "from sklearn.pipeline import Pipeline\n",
        "\n",
        "X, y = ImpDf.drop('classification', axis = 1),ImpDf['classification']\n",
        "\n",
        "# define modeling pipeline\n",
        "model = RandomForestClassifier()\n",
        "imputer = KNNImputer()\n",
        "pipeline = Pipeline(steps=[('i', imputer), ('m', model)])"
      ],
      "execution_count": null,
      "outputs": []
    },
    {
      "cell_type": "code",
      "metadata": {
        "colab": {
          "base_uri": "https://localhost:8080/"
        },
        "id": "FJ8YPY58LFre",
        "outputId": "2f7a7130-e6eb-4e0b-d1ee-cd1ababe9ea1"
      },
      "source": [
        "from numpy import mean\n",
        "from numpy import std\n",
        "\n",
        "from sklearn.model_selection import cross_val_score\n",
        "from sklearn.model_selection import RepeatedStratifiedKFold\n",
        "\n",
        "# define model evaluation\n",
        "cv = RepeatedStratifiedKFold(n_splits=10, n_repeats=3, random_state=1)\n",
        "# evaluate model\n",
        "scores = cross_val_score(pipeline, X, y, scoring='accuracy', cv=cv, n_jobs=-1, error_score='raise')\n",
        "print('Mean Accuracy: %.3f (%.3f)' % (mean(scores), std(scores)))"
      ],
      "execution_count": null,
      "outputs": [
        {
          "output_type": "stream",
          "text": [
            "Mean Accuracy: 1.000 (0.000)\n"
          ],
          "name": "stdout"
        }
      ]
    },
    {
      "cell_type": "code",
      "metadata": {
        "colab": {
          "base_uri": "https://localhost:8080/",
          "height": 379
        },
        "id": "uaFA0AxeQ2jq",
        "outputId": "528c6ce4-5836-46ab-b2f3-9b2ba6ad3315"
      },
      "source": [
        "X.head(10)"
      ],
      "execution_count": null,
      "outputs": [
        {
          "output_type": "execute_result",
          "data": {
            "text/html": [
              "<div>\n",
              "<style scoped>\n",
              "    .dataframe tbody tr th:only-of-type {\n",
              "        vertical-align: middle;\n",
              "    }\n",
              "\n",
              "    .dataframe tbody tr th {\n",
              "        vertical-align: top;\n",
              "    }\n",
              "\n",
              "    .dataframe thead th {\n",
              "        text-align: right;\n",
              "    }\n",
              "</style>\n",
              "<table border=\"1\" class=\"dataframe\">\n",
              "  <thead>\n",
              "    <tr style=\"text-align: right;\">\n",
              "      <th></th>\n",
              "      <th>id</th>\n",
              "      <th>age</th>\n",
              "      <th>bp</th>\n",
              "      <th>sg</th>\n",
              "      <th>al</th>\n",
              "      <th>su</th>\n",
              "      <th>rbc</th>\n",
              "      <th>pc</th>\n",
              "      <th>pcc</th>\n",
              "      <th>ba</th>\n",
              "      <th>bgr</th>\n",
              "      <th>bu</th>\n",
              "      <th>sc</th>\n",
              "      <th>sod</th>\n",
              "      <th>pot</th>\n",
              "      <th>hemo</th>\n",
              "      <th>pcv</th>\n",
              "      <th>wc</th>\n",
              "      <th>rc</th>\n",
              "      <th>htn</th>\n",
              "      <th>dm</th>\n",
              "      <th>cad</th>\n",
              "      <th>appet</th>\n",
              "      <th>pe</th>\n",
              "      <th>ane</th>\n",
              "    </tr>\n",
              "  </thead>\n",
              "  <tbody>\n",
              "    <tr>\n",
              "      <th>0</th>\n",
              "      <td>0.0</td>\n",
              "      <td>40.0</td>\n",
              "      <td>3.0</td>\n",
              "      <td>3.0</td>\n",
              "      <td>1.0</td>\n",
              "      <td>0.0</td>\n",
              "      <td>-1.0</td>\n",
              "      <td>1.0</td>\n",
              "      <td>0.0</td>\n",
              "      <td>0.0</td>\n",
              "      <td>48.0</td>\n",
              "      <td>23.0</td>\n",
              "      <td>8.0</td>\n",
              "      <td>-1.0</td>\n",
              "      <td>-1.0</td>\n",
              "      <td>90.0</td>\n",
              "      <td>32.0</td>\n",
              "      <td>72.0</td>\n",
              "      <td>34.0</td>\n",
              "      <td>1.0</td>\n",
              "      <td>4.0</td>\n",
              "      <td>1.0</td>\n",
              "      <td>0.0</td>\n",
              "      <td>0.0</td>\n",
              "      <td>0.0</td>\n",
              "    </tr>\n",
              "    <tr>\n",
              "      <th>1</th>\n",
              "      <td>1.0</td>\n",
              "      <td>5.0</td>\n",
              "      <td>0.0</td>\n",
              "      <td>3.0</td>\n",
              "      <td>4.0</td>\n",
              "      <td>0.0</td>\n",
              "      <td>-1.0</td>\n",
              "      <td>1.0</td>\n",
              "      <td>0.0</td>\n",
              "      <td>0.0</td>\n",
              "      <td>-1.0</td>\n",
              "      <td>5.0</td>\n",
              "      <td>4.0</td>\n",
              "      <td>-1.0</td>\n",
              "      <td>-1.0</td>\n",
              "      <td>49.0</td>\n",
              "      <td>26.0</td>\n",
              "      <td>56.0</td>\n",
              "      <td>-1.0</td>\n",
              "      <td>0.0</td>\n",
              "      <td>3.0</td>\n",
              "      <td>1.0</td>\n",
              "      <td>0.0</td>\n",
              "      <td>0.0</td>\n",
              "      <td>0.0</td>\n",
              "    </tr>\n",
              "    <tr>\n",
              "      <th>2</th>\n",
              "      <td>2.0</td>\n",
              "      <td>54.0</td>\n",
              "      <td>3.0</td>\n",
              "      <td>1.0</td>\n",
              "      <td>2.0</td>\n",
              "      <td>3.0</td>\n",
              "      <td>1.0</td>\n",
              "      <td>1.0</td>\n",
              "      <td>0.0</td>\n",
              "      <td>0.0</td>\n",
              "      <td>140.0</td>\n",
              "      <td>40.0</td>\n",
              "      <td>14.0</td>\n",
              "      <td>-1.0</td>\n",
              "      <td>-1.0</td>\n",
              "      <td>32.0</td>\n",
              "      <td>19.0</td>\n",
              "      <td>70.0</td>\n",
              "      <td>-1.0</td>\n",
              "      <td>0.0</td>\n",
              "      <td>4.0</td>\n",
              "      <td>1.0</td>\n",
              "      <td>1.0</td>\n",
              "      <td>0.0</td>\n",
              "      <td>1.0</td>\n",
              "    </tr>\n",
              "    <tr>\n",
              "      <th>3</th>\n",
              "      <td>3.0</td>\n",
              "      <td>40.0</td>\n",
              "      <td>2.0</td>\n",
              "      <td>0.0</td>\n",
              "      <td>4.0</td>\n",
              "      <td>0.0</td>\n",
              "      <td>1.0</td>\n",
              "      <td>0.0</td>\n",
              "      <td>1.0</td>\n",
              "      <td>0.0</td>\n",
              "      <td>44.0</td>\n",
              "      <td>43.0</td>\n",
              "      <td>32.0</td>\n",
              "      <td>2.0</td>\n",
              "      <td>0.0</td>\n",
              "      <td>48.0</td>\n",
              "      <td>20.0</td>\n",
              "      <td>62.0</td>\n",
              "      <td>19.0</td>\n",
              "      <td>1.0</td>\n",
              "      <td>3.0</td>\n",
              "      <td>1.0</td>\n",
              "      <td>1.0</td>\n",
              "      <td>1.0</td>\n",
              "      <td>1.0</td>\n",
              "    </tr>\n",
              "    <tr>\n",
              "      <th>4</th>\n",
              "      <td>4.0</td>\n",
              "      <td>43.0</td>\n",
              "      <td>3.0</td>\n",
              "      <td>1.0</td>\n",
              "      <td>2.0</td>\n",
              "      <td>0.0</td>\n",
              "      <td>1.0</td>\n",
              "      <td>1.0</td>\n",
              "      <td>0.0</td>\n",
              "      <td>0.0</td>\n",
              "      <td>33.0</td>\n",
              "      <td>13.0</td>\n",
              "      <td>10.0</td>\n",
              "      <td>-1.0</td>\n",
              "      <td>-1.0</td>\n",
              "      <td>52.0</td>\n",
              "      <td>23.0</td>\n",
              "      <td>68.0</td>\n",
              "      <td>27.0</td>\n",
              "      <td>0.0</td>\n",
              "      <td>3.0</td>\n",
              "      <td>1.0</td>\n",
              "      <td>0.0</td>\n",
              "      <td>0.0</td>\n",
              "      <td>0.0</td>\n",
              "    </tr>\n",
              "    <tr>\n",
              "      <th>5</th>\n",
              "      <td>5.0</td>\n",
              "      <td>52.0</td>\n",
              "      <td>4.0</td>\n",
              "      <td>2.0</td>\n",
              "      <td>3.0</td>\n",
              "      <td>0.0</td>\n",
              "      <td>-1.0</td>\n",
              "      <td>-1.0</td>\n",
              "      <td>0.0</td>\n",
              "      <td>0.0</td>\n",
              "      <td>2.0</td>\n",
              "      <td>12.0</td>\n",
              "      <td>7.0</td>\n",
              "      <td>26.0</td>\n",
              "      <td>5.0</td>\n",
              "      <td>58.0</td>\n",
              "      <td>27.0</td>\n",
              "      <td>72.0</td>\n",
              "      <td>25.0</td>\n",
              "      <td>1.0</td>\n",
              "      <td>4.0</td>\n",
              "      <td>1.0</td>\n",
              "      <td>0.0</td>\n",
              "      <td>1.0</td>\n",
              "      <td>0.0</td>\n",
              "    </tr>\n",
              "    <tr>\n",
              "      <th>6</th>\n",
              "      <td>6.0</td>\n",
              "      <td>60.0</td>\n",
              "      <td>2.0</td>\n",
              "      <td>1.0</td>\n",
              "      <td>0.0</td>\n",
              "      <td>0.0</td>\n",
              "      <td>-1.0</td>\n",
              "      <td>1.0</td>\n",
              "      <td>0.0</td>\n",
              "      <td>0.0</td>\n",
              "      <td>27.0</td>\n",
              "      <td>41.0</td>\n",
              "      <td>80.0</td>\n",
              "      <td>1.0</td>\n",
              "      <td>13.0</td>\n",
              "      <td>60.0</td>\n",
              "      <td>24.0</td>\n",
              "      <td>-1.0</td>\n",
              "      <td>-1.0</td>\n",
              "      <td>0.0</td>\n",
              "      <td>3.0</td>\n",
              "      <td>1.0</td>\n",
              "      <td>0.0</td>\n",
              "      <td>0.0</td>\n",
              "      <td>0.0</td>\n",
              "    </tr>\n",
              "    <tr>\n",
              "      <th>7</th>\n",
              "      <td>7.0</td>\n",
              "      <td>17.0</td>\n",
              "      <td>-1.0</td>\n",
              "      <td>2.0</td>\n",
              "      <td>2.0</td>\n",
              "      <td>4.0</td>\n",
              "      <td>1.0</td>\n",
              "      <td>0.0</td>\n",
              "      <td>0.0</td>\n",
              "      <td>0.0</td>\n",
              "      <td>138.0</td>\n",
              "      <td>18.0</td>\n",
              "      <td>7.0</td>\n",
              "      <td>-1.0</td>\n",
              "      <td>-1.0</td>\n",
              "      <td>60.0</td>\n",
              "      <td>32.0</td>\n",
              "      <td>64.0</td>\n",
              "      <td>31.0</td>\n",
              "      <td>0.0</td>\n",
              "      <td>4.0</td>\n",
              "      <td>1.0</td>\n",
              "      <td>0.0</td>\n",
              "      <td>1.0</td>\n",
              "      <td>0.0</td>\n",
              "    </tr>\n",
              "    <tr>\n",
              "      <th>8</th>\n",
              "      <td>8.0</td>\n",
              "      <td>44.0</td>\n",
              "      <td>5.0</td>\n",
              "      <td>2.0</td>\n",
              "      <td>3.0</td>\n",
              "      <td>0.0</td>\n",
              "      <td>1.0</td>\n",
              "      <td>0.0</td>\n",
              "      <td>1.0</td>\n",
              "      <td>0.0</td>\n",
              "      <td>62.0</td>\n",
              "      <td>46.0</td>\n",
              "      <td>15.0</td>\n",
              "      <td>-1.0</td>\n",
              "      <td>-1.0</td>\n",
              "      <td>44.0</td>\n",
              "      <td>21.0</td>\n",
              "      <td>88.0</td>\n",
              "      <td>21.0</td>\n",
              "      <td>1.0</td>\n",
              "      <td>4.0</td>\n",
              "      <td>1.0</td>\n",
              "      <td>0.0</td>\n",
              "      <td>0.0</td>\n",
              "      <td>1.0</td>\n",
              "    </tr>\n",
              "    <tr>\n",
              "      <th>9</th>\n",
              "      <td>9.0</td>\n",
              "      <td>45.0</td>\n",
              "      <td>4.0</td>\n",
              "      <td>3.0</td>\n",
              "      <td>2.0</td>\n",
              "      <td>0.0</td>\n",
              "      <td>0.0</td>\n",
              "      <td>0.0</td>\n",
              "      <td>1.0</td>\n",
              "      <td>0.0</td>\n",
              "      <td>1.0</td>\n",
              "      <td>78.0</td>\n",
              "      <td>51.0</td>\n",
              "      <td>4.0</td>\n",
              "      <td>10.0</td>\n",
              "      <td>31.0</td>\n",
              "      <td>17.0</td>\n",
              "      <td>18.0</td>\n",
              "      <td>17.0</td>\n",
              "      <td>1.0</td>\n",
              "      <td>4.0</td>\n",
              "      <td>1.0</td>\n",
              "      <td>1.0</td>\n",
              "      <td>0.0</td>\n",
              "      <td>1.0</td>\n",
              "    </tr>\n",
              "  </tbody>\n",
              "</table>\n",
              "</div>"
            ],
            "text/plain": [
              "    id   age   bp   sg   al   su  rbc  ...    rc  htn   dm  cad  appet   pe  ane\n",
              "0  0.0  40.0  3.0  3.0  1.0  0.0 -1.0  ...  34.0  1.0  4.0  1.0    0.0  0.0  0.0\n",
              "1  1.0   5.0  0.0  3.0  4.0  0.0 -1.0  ...  -1.0  0.0  3.0  1.0    0.0  0.0  0.0\n",
              "2  2.0  54.0  3.0  1.0  2.0  3.0  1.0  ...  -1.0  0.0  4.0  1.0    1.0  0.0  1.0\n",
              "3  3.0  40.0  2.0  0.0  4.0  0.0  1.0  ...  19.0  1.0  3.0  1.0    1.0  1.0  1.0\n",
              "4  4.0  43.0  3.0  1.0  2.0  0.0  1.0  ...  27.0  0.0  3.0  1.0    0.0  0.0  0.0\n",
              "5  5.0  52.0  4.0  2.0  3.0  0.0 -1.0  ...  25.0  1.0  4.0  1.0    0.0  1.0  0.0\n",
              "6  6.0  60.0  2.0  1.0  0.0  0.0 -1.0  ...  -1.0  0.0  3.0  1.0    0.0  0.0  0.0\n",
              "7  7.0  17.0 -1.0  2.0  2.0  4.0  1.0  ...  31.0  0.0  4.0  1.0    0.0  1.0  0.0\n",
              "8  8.0  44.0  5.0  2.0  3.0  0.0  1.0  ...  21.0  1.0  4.0  1.0    0.0  0.0  1.0\n",
              "9  9.0  45.0  4.0  3.0  2.0  0.0  0.0  ...  17.0  1.0  4.0  1.0    1.0  0.0  1.0\n",
              "\n",
              "[10 rows x 25 columns]"
            ]
          },
          "metadata": {
            "tags": []
          },
          "execution_count": 41
        }
      ]
    },
    {
      "cell_type": "code",
      "metadata": {
        "colab": {
          "base_uri": "https://localhost:8080/"
        },
        "id": "4O0q1J2cQSxI",
        "outputId": "83326a37-6b31-4d23-ee74-bc0dbd00417b"
      },
      "source": [
        "X.isnull().sum()"
      ],
      "execution_count": null,
      "outputs": [
        {
          "output_type": "execute_result",
          "data": {
            "text/plain": [
              "id       0\n",
              "age      0\n",
              "bp       0\n",
              "sg       0\n",
              "al       0\n",
              "su       0\n",
              "rbc      0\n",
              "pc       0\n",
              "pcc      0\n",
              "ba       0\n",
              "bgr      0\n",
              "bu       0\n",
              "sc       0\n",
              "sod      0\n",
              "pot      0\n",
              "hemo     0\n",
              "pcv      0\n",
              "wc       0\n",
              "rc       0\n",
              "htn      0\n",
              "dm       0\n",
              "cad      0\n",
              "appet    0\n",
              "pe       0\n",
              "ane      0\n",
              "dtype: int64"
            ]
          },
          "metadata": {
            "tags": []
          },
          "execution_count": 36
        }
      ]
    },
    {
      "cell_type": "code",
      "metadata": {
        "id": "7g1eW63eHvfJ"
      },
      "source": [
        "#Splitting data into train test \n",
        "from sklearn.model_selection import train_test_split\n",
        "X_train, X_test, y_train, y_test = train_test_split(X,y, test_size = 0.33, random_state = 15)\n"
      ],
      "execution_count": null,
      "outputs": []
    },
    {
      "cell_type": "code",
      "metadata": {
        "id": "vIq7B33TQnaO"
      },
      "source": [
        "#Importing Classification Models\n",
        "from sklearn.naive_bayes import MultinomialNB,GaussianNB\n",
        "from sklearn.svm import SVC\n",
        "from sklearn.linear_model import LogisticRegression\n",
        "from sklearn.tree import DecisionTreeClassifier\n",
        "from sklearn.ensemble import RandomForestClassifier\n",
        "from sklearn.neighbors import KNeighborsClassifier"
      ],
      "execution_count": null,
      "outputs": []
    },
    {
      "cell_type": "code",
      "metadata": {
        "colab": {
          "base_uri": "https://localhost:8080/"
        },
        "id": "_g6wGNK4Qn0n",
        "outputId": "d2fdf197-a8bc-4b87-b188-475f8d1df85f"
      },
      "source": [
        "'''                             MODEL BUILDING                             '''\n",
        "SVCmodel = SVC().fit(X_train, y_train)\n",
        "# MNBmodel = MultinomialNB().fit(X_train, y_train)\n",
        "GNBmodel = GaussianNB().fit(X_train,y_train)\n",
        "DTmodel = DecisionTreeClassifier().fit(X_train, y_train)\n",
        "RFmodel = RandomForestClassifier().fit(X_train, y_train)\n",
        "LRmodel = LogisticRegression().fit(X_train, y_train)\n",
        "KNNmodel = KNeighborsClassifier(n_neighbors = 5).fit(X_train, y_train)"
      ],
      "execution_count": null,
      "outputs": [
        {
          "output_type": "stream",
          "text": [
            "/usr/local/lib/python3.7/dist-packages/sklearn/linear_model/_logistic.py:940: ConvergenceWarning: lbfgs failed to converge (status=1):\n",
            "STOP: TOTAL NO. of ITERATIONS REACHED LIMIT.\n",
            "\n",
            "Increase the number of iterations (max_iter) or scale the data as shown in:\n",
            "    https://scikit-learn.org/stable/modules/preprocessing.html\n",
            "Please also refer to the documentation for alternative solver options:\n",
            "    https://scikit-learn.org/stable/modules/linear_model.html#logistic-regression\n",
            "  extra_warning_msg=_LOGISTIC_SOLVER_CONVERGENCE_MSG)\n"
          ],
          "name": "stderr"
        }
      ]
    },
    {
      "cell_type": "code",
      "metadata": {
        "colab": {
          "base_uri": "https://localhost:8080/"
        },
        "id": "eP8CQGjERhOh",
        "outputId": "a10280a9-577c-4b00-9a38-a7f6ed2d9522"
      },
      "source": [
        "from sklearn.metrics import accuracy_score, confusion_matrix, classification_report\n",
        "\n",
        "print(\">>>>>>>>>>>>>>     Support Vector Machine     <<<<<<<<<<<<\")\n",
        "pred = SVCmodel.predict(X_test)\n",
        "score = accuracy_score(y_test,pred)\n",
        "print(score)\n",
        "conf = confusion_matrix(y_test,pred)\n",
        "print(conf)\n",
        "report = classification_report(y_test,pred)\n",
        "print(report)\n",
        "print(\" \")\n",
        "\n",
        "# print(\">>>>>>>>>>>>>>     Multinomial Naive Bayes     <<<<<<<<<<<<\")\n",
        "# pred = MNBmodel.predict(X_test)\n",
        "# score = accuracy_score(y_test,pred)\n",
        "# print(score)\n",
        "# conf = confusion_matrix(y_test,pred)\n",
        "# print(conf)\n",
        "# report = classification_report(y_test,pred)\n",
        "# print(report)\n",
        "# print(\" \")\n",
        "\n",
        "# print(\">>>>>>>>>>>>>>     Gaussian Naive Bayes     <<<<<<<<<<<<\")\n",
        "# pred = GNBmodel.predict(X_test)\n",
        "# score = accuracy_score(y_test,pred)\n",
        "# print(score)\n",
        "# conf = confusion_matrix(y_test,pred)\n",
        "# print(conf)\n",
        "# report = classification_report(y_test,pred)\n",
        "# print(report)\n",
        "# print(\" \")\n",
        "\n",
        "print(\">>>>>>>>>>>>>>     Decission Tree      <<<<<<<<<<<<\")\n",
        "pred = DTmodel.predict(X_test)\n",
        "score = accuracy_score(y_test,pred)\n",
        "print(score)\n",
        "conf = confusion_matrix(y_test,pred)\n",
        "print(conf)\n",
        "report = classification_report(y_test,pred)\n",
        "print(report)\n",
        "print(\" \")\n",
        "\n",
        "print(\">>>>>>>>>>>>>>     Random Forest     <<<<<<<<<<<<\")\n",
        "pred = RFmodel.predict(X_test)\n",
        "score = accuracy_score(y_test,pred)\n",
        "print(score)\n",
        "conf = confusion_matrix(y_test,pred)\n",
        "print(conf)\n",
        "report = classification_report(y_test,pred)\n",
        "print(report)\n",
        "print(\" \")\n",
        "print(\">>>>>>>>>>>>>>     Logistic Regression     <<<<<<<<<<<<\")\n",
        "pred = LRmodel.predict(X_test)\n",
        "score = accuracy_score(y_test,pred)\n",
        "print(score)\n",
        "conf = confusion_matrix(y_test,pred)\n",
        "print(conf)\n",
        "report = classification_report(y_test,pred)\n",
        "print(report)\n",
        "print(\" \")"
      ],
      "execution_count": null,
      "outputs": [
        {
          "output_type": "stream",
          "text": [
            ">>>>>>>>>>>>>>     Support Vector Machine     <<<<<<<<<<<<\n",
            "1.0\n",
            "[[78  0]\n",
            " [ 0 54]]\n",
            "              precision    recall  f1-score   support\n",
            "\n",
            "         0.0       1.00      1.00      1.00        78\n",
            "         1.0       1.00      1.00      1.00        54\n",
            "\n",
            "    accuracy                           1.00       132\n",
            "   macro avg       1.00      1.00      1.00       132\n",
            "weighted avg       1.00      1.00      1.00       132\n",
            "\n",
            " \n",
            ">>>>>>>>>>>>>>     Decission Tree      <<<<<<<<<<<<\n",
            "1.0\n",
            "[[78  0]\n",
            " [ 0 54]]\n",
            "              precision    recall  f1-score   support\n",
            "\n",
            "         0.0       1.00      1.00      1.00        78\n",
            "         1.0       1.00      1.00      1.00        54\n",
            "\n",
            "    accuracy                           1.00       132\n",
            "   macro avg       1.00      1.00      1.00       132\n",
            "weighted avg       1.00      1.00      1.00       132\n",
            "\n",
            " \n",
            ">>>>>>>>>>>>>>     Random Forest     <<<<<<<<<<<<\n",
            "1.0\n",
            "[[78  0]\n",
            " [ 0 54]]\n",
            "              precision    recall  f1-score   support\n",
            "\n",
            "         0.0       1.00      1.00      1.00        78\n",
            "         1.0       1.00      1.00      1.00        54\n",
            "\n",
            "    accuracy                           1.00       132\n",
            "   macro avg       1.00      1.00      1.00       132\n",
            "weighted avg       1.00      1.00      1.00       132\n",
            "\n",
            " \n",
            ">>>>>>>>>>>>>>     Logistic Regression     <<<<<<<<<<<<\n",
            "0.9696969696969697\n",
            "[[74  4]\n",
            " [ 0 54]]\n",
            "              precision    recall  f1-score   support\n",
            "\n",
            "         0.0       1.00      0.95      0.97        78\n",
            "         1.0       0.93      1.00      0.96        54\n",
            "\n",
            "    accuracy                           0.97       132\n",
            "   macro avg       0.97      0.97      0.97       132\n",
            "weighted avg       0.97      0.97      0.97       132\n",
            "\n",
            " \n"
          ],
          "name": "stdout"
        }
      ]
    },
    {
      "cell_type": "code",
      "metadata": {
        "colab": {
          "base_uri": "https://localhost:8080/"
        },
        "id": "AFhrHwFtSJ4s",
        "outputId": "614548fc-19db-4ad0-f4ee-0d05f30b0964"
      },
      "source": [
        "print(\">>>>>>>>>>>>>>     Gaussian Naive Bayes     <<<<<<<<<<<<\")\n",
        "pred = GNBmodel.predict(X_test)\n",
        "score = accuracy_score(y_test,pred)\n",
        "print(score)\n",
        "conf = confusion_matrix(y_test,pred)\n",
        "print(conf)\n",
        "report = classification_report(y_test,pred)\n",
        "print(report)\n",
        "print(\" \")"
      ],
      "execution_count": null,
      "outputs": [
        {
          "output_type": "stream",
          "text": [
            ">>>>>>>>>>>>>>     Gaussian Naive Bayes     <<<<<<<<<<<<\n",
            "0.9393939393939394\n",
            "[[76  2]\n",
            " [ 6 48]]\n",
            "              precision    recall  f1-score   support\n",
            "\n",
            "         0.0       0.93      0.97      0.95        78\n",
            "         1.0       0.96      0.89      0.92        54\n",
            "\n",
            "    accuracy                           0.94       132\n",
            "   macro avg       0.94      0.93      0.94       132\n",
            "weighted avg       0.94      0.94      0.94       132\n",
            "\n",
            " \n"
          ],
          "name": "stdout"
        }
      ]
    }
  ]
}