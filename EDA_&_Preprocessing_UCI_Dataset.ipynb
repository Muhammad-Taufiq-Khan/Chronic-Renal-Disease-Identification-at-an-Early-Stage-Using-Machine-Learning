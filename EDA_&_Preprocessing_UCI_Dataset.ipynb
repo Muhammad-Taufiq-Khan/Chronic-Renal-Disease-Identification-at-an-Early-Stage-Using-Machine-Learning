{
  "nbformat": 4,
  "nbformat_minor": 0,
  "metadata": {
    "colab": {
      "name": "EDA & Preprocessing UCI Dataset.ipynb",
      "provenance": [],
      "include_colab_link": true
    },
    "kernelspec": {
      "name": "python3",
      "display_name": "Python 3"
    },
    "language_info": {
      "name": "python"
    }
  },
  "cells": [
    {
      "cell_type": "markdown",
      "metadata": {
        "id": "view-in-github",
        "colab_type": "text"
      },
      "source": [
        "<a href=\"https://colab.research.google.com/github/Muhammad-Taufiq-Khan/CKD/blob/main/EDA_%26_Preprocessing_UCI_Dataset.ipynb\" target=\"_parent\"><img src=\"https://colab.research.google.com/assets/colab-badge.svg\" alt=\"Open In Colab\"/></a>"
      ]
    },
    {
      "cell_type": "code",
      "metadata": {
        "id": "2r7czMkePlK3"
      },
      "source": [
        "import pandas as pd"
      ],
      "execution_count": null,
      "outputs": []
    },
    {
      "cell_type": "code",
      "metadata": {
        "colab": {
          "base_uri": "https://localhost:8080/"
        },
        "id": "o8uGi-rkbQ50",
        "outputId": "5255cdc5-54e9-4c17-c4a9-cf2d78b7dadf"
      },
      "source": [
        "# from google.colab import drive\n",
        "\n",
        "# drive.mount(‘/content/drive’)\n",
        "from google.colab import drive\n",
        "drive.mount('/content/drive')"
      ],
      "execution_count": null,
      "outputs": [
        {
          "output_type": "stream",
          "text": [
            "Mounted at /content/drive\n"
          ],
          "name": "stdout"
        }
      ]
    },
    {
      "cell_type": "code",
      "metadata": {
        "id": "KR8NXQYpdL-L"
      },
      "source": [
        "with open('/content/drive/My Drive/foo.txt', 'w') as f:\n",
        "  f.write('Hello Google Drive!')\n",
        "!cat /content/drive/My\\ Drive/foo.txt"
      ],
      "execution_count": null,
      "outputs": []
    },
    {
      "cell_type": "code",
      "metadata": {
        "id": "Z4ZdSoHLbSSP"
      },
      "source": [
        ""
      ],
      "execution_count": null,
      "outputs": []
    },
    {
      "cell_type": "code",
      "metadata": {
        "colab": {
          "base_uri": "https://localhost:8080/",
          "height": 241
        },
        "id": "xC_HwHk0RNCf",
        "outputId": "e8833413-907e-4b83-d348-beceeafe7258"
      },
      "source": [
        "# Load data from URL using pandas read_csv method\n",
        "dataframe = pd.read_csv('https://www.kaggle.com/mansoordaku/ckdisease?select=kidney_disease.csv',sep='delimiter', header=None)\n",
        "\n",
        "#To avoid Python Pandas Error tokenizing data\n",
        " error_bad_lines=False\n",
        "dataframe.head()"
      ],
      "execution_count": null,
      "outputs": [
        {
          "output_type": "stream",
          "text": [
            "b'Skipping line 7: expected 1 fields, saw 2\\nSkipping line 11: expected 1 fields, saw 4\\nSkipping line 22: expected 1 fields, saw 2\\nSkipping line 42: expected 1 fields, saw 2\\nSkipping line 54: expected 1 fields, saw 9\\nSkipping line 58: expected 1 fields, saw 2\\nSkipping line 59: expected 1 fields, saw 6\\nSkipping line 64: expected 1 fields, saw 2\\nSkipping line 65: expected 1 fields, saw 3\\nSkipping line 66: expected 1 fields, saw 2\\nSkipping line 67: expected 1 fields, saw 2\\nSkipping line 68: expected 1 fields, saw 2\\nSkipping line 91: expected 1 fields, saw 61\\nSkipping line 108: expected 1 fields, saw 2\\nSkipping line 109: expected 1 fields, saw 2\\nSkipping line 110: expected 1 fields, saw 2\\nSkipping line 111: expected 1 fields, saw 2\\nSkipping line 119: expected 1 fields, saw 2\\nSkipping line 127: expected 1 fields, saw 2\\nSkipping line 155: expected 1 fields, saw 2\\nSkipping line 156: expected 1 fields, saw 2\\nSkipping line 157: expected 1 fields, saw 2\\nSkipping line 158: expected 1 fields, saw 2\\nSkipping line 179: expected 1 fields, saw 1179\\nSkipping line 182: expected 1 fields, saw 2\\nSkipping line 183: expected 1 fields, saw 3\\nSkipping line 186: expected 1 fields, saw 2\\nSkipping line 188: expected 1 fields, saw 2\\nSkipping line 190: expected 1 fields, saw 5\\nSkipping line 191: expected 1 fields, saw 5\\nSkipping line 192: expected 1 fields, saw 2\\nSkipping line 194: expected 1 fields, saw 2\\nSkipping line 198: expected 1 fields, saw 2\\nSkipping line 199: expected 1 fields, saw 2\\nSkipping line 203: expected 1 fields, saw 2\\nSkipping line 206: expected 1 fields, saw 2\\nSkipping line 207: expected 1 fields, saw 2\\nSkipping line 208: expected 1 fields, saw 2\\nSkipping line 209: expected 1 fields, saw 2\\nSkipping line 213: expected 1 fields, saw 2\\nSkipping line 215: expected 1 fields, saw 2\\n'\n"
          ],
          "name": "stderr"
        },
        {
          "output_type": "execute_result",
          "data": {
            "text/html": [
              "<div>\n",
              "<style scoped>\n",
              "    .dataframe tbody tr th:only-of-type {\n",
              "        vertical-align: middle;\n",
              "    }\n",
              "\n",
              "    .dataframe tbody tr th {\n",
              "        vertical-align: top;\n",
              "    }\n",
              "\n",
              "    .dataframe thead th {\n",
              "        text-align: right;\n",
              "    }\n",
              "</style>\n",
              "<table border=\"1\" class=\"dataframe\">\n",
              "  <thead>\n",
              "    <tr style=\"text-align: right;\">\n",
              "      <th></th>\n",
              "      <th>&lt;!DOCTYPE html&gt;</th>\n",
              "    </tr>\n",
              "  </thead>\n",
              "  <tbody>\n",
              "    <tr>\n",
              "      <th>0</th>\n",
              "      <td>&lt;html lang=\"en\"&gt;</td>\n",
              "    </tr>\n",
              "    <tr>\n",
              "      <th>1</th>\n",
              "      <td>&lt;head&gt;</td>\n",
              "    </tr>\n",
              "    <tr>\n",
              "      <th>2</th>\n",
              "      <td>&lt;title&gt;Chronic KIdney Disease dataset | Kagg...</td>\n",
              "    </tr>\n",
              "    <tr>\n",
              "      <th>3</th>\n",
              "      <td>&lt;meta charset=\"utf-8\" /&gt;</td>\n",
              "    </tr>\n",
              "    <tr>\n",
              "      <th>4</th>\n",
              "      <td>&lt;meta name=\"description\" content=\"Data has  ...</td>\n",
              "    </tr>\n",
              "  </tbody>\n",
              "</table>\n",
              "</div>"
            ],
            "text/plain": [
              "                                     <!DOCTYPE html>\n",
              "0                                   <html lang=\"en\">\n",
              "1                                             <head>\n",
              "2    <title>Chronic KIdney Disease dataset | Kagg...\n",
              "3                           <meta charset=\"utf-8\" />\n",
              "4    <meta name=\"description\" content=\"Data has  ..."
            ]
          },
          "metadata": {
            "tags": []
          },
          "execution_count": 5
        }
      ]
    },
    {
      "cell_type": "code",
      "metadata": {
        "id": "sib3_nojbQKj"
      },
      "source": [
        " https://drive.google.com/file/d/1fPoW4nb5HNJNyprYl91QNCsHCeNgZ--o/view?usp=drivesdk"
      ],
      "execution_count": null,
      "outputs": []
    },
    {
      "cell_type": "code",
      "metadata": {
        "id": "AvwLDVBqWAWR"
      },
      "source": [
        ""
      ],
      "execution_count": null,
      "outputs": []
    }
  ]
}